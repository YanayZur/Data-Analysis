{
 "cells": [
  {
   "cell_type": "markdown",
   "metadata": {},
   "source": [
    "# Research on customer behavior\n",
    "I am an analyst at Telecom company.\n",
    "\n",
    "I have a random sample of data from 500 customers.\n",
    "\n",
    "The data describes call usage, message usage, and browsing usage. \n",
    "\n",
    "My job is to examine customer behavior and determine which prepaid plan is most profitable.\n",
    "\n"
   ]
  },
  {
   "cell_type": "markdown",
   "metadata": {},
   "source": [
    "### Table of Contents\n",
    "\n",
    "* [Step 1. Open the data file and study the general information.](#step1)\n",
    "    * [Calls table:](#call)\n",
    "    * [Internet table:](#internet)\n",
    "    * [Messages table:](#messages)\n",
    "    * [Users table:](#user)\n",
    "    * [step 1. conclusion](#step1.1)<br><br>\n",
    "    \n",
    "* [Step 2. Prepare the data](#step2.)\n",
    "    * [step 2. conclusion](#step2.2)<br><br>\n",
    "    \n",
    "* [Step 3. Analyze the data](#step3.)\n",
    "    * [Customer behavior analysis:](#customer.) \n",
    "    * [Histograms](#histograms.)\n",
    "    * [Description of the histograms:](#discribe.)\n",
    "    * [step 3. conclusion](#step3.3)<br><br>\n",
    "    \n",
    "* [Step 4. Test the hypotheses](#step4.)\n",
    "    * [Hypothesis 1](#Hypothesis1.)\n",
    "    * [Hypothesis 2](#Hypothesis2.)\n",
    "    * [step 4. conclusion](#step4.1)\n",
    "\n",
    "* [Step 5. Overall conclusion](#step5.)"
   ]
  },
  {
   "cell_type": "markdown",
   "metadata": {},
   "source": [
    "## Step 1. Open the data file and study the general information <a class=\"anchor\" id=\"step1\"></a>"
   ]
  },
  {
   "cell_type": "markdown",
   "metadata": {},
   "source": [
    "**We have five DataFrams, we will check them:**"
   ]
  },
  {
   "cell_type": "code",
   "execution_count": 1,
   "metadata": {},
   "outputs": [],
   "source": [
    "import pandas as pd\n",
    "import matplotlib.pyplot as plt\n",
    "import numpy as np\n",
    "from scipy import stats as st\n",
    "import seaborn as sns\n",
    "from functools import reduce\n",
    "import math\n",
    "import plotly.graph_objs as go\n",
    "from plotly.tools import FigureFactory as FF\n",
    "from pylab import rcParams\n",
    "import warnings\n",
    "\n",
    "\n",
    "\n",
    "df_calls = pd.read_csv('/datasets/megaline_calls.csv')\n",
    "df_internet = pd.read_csv('/datasets/megaline_internet.csv')\n",
    "df_messages = pd.read_csv('/datasets/megaline_messages.csv')\n",
    "df_plans = pd.read_csv('/datasets/megaline_plans.csv')\n",
    "df_users = pd.read_csv('/datasets/megaline_users.csv')\n"
   ]
  },
  {
   "cell_type": "markdown",
   "metadata": {},
   "source": [
    "**We will create a function that checks whether there are values equal to 0 and if so what is their relative share:**"
   ]
  },
  {
   "cell_type": "code",
   "execution_count": 2,
   "metadata": {},
   "outputs": [],
   "source": [
    "def zeros(data):\n",
    "    for i in data.columns:\n",
    "        if len(data[data[i]==0]) == 0:\n",
    "            print(i , len(data[data[i]==0]))\n",
    "        else:\n",
    "            print(i,len(data[data[i]==0]),(round(len(data[data[i]==0])/len(data[i]),3)))\n",
    "            "
   ]
  },
  {
   "cell_type": "markdown",
   "metadata": {},
   "source": [
    "### We will do a series of tests for each data:"
   ]
  },
  {
   "cell_type": "markdown",
   "metadata": {},
   "source": [
    "### Calls table: <a class=\"anchor\" id=\"call\"></a>"
   ]
  },
  {
   "cell_type": "code",
   "execution_count": 3,
   "metadata": {},
   "outputs": [
    {
     "data": {
      "text/html": [
       "<div>\n",
       "<style scoped>\n",
       "    .dataframe tbody tr th:only-of-type {\n",
       "        vertical-align: middle;\n",
       "    }\n",
       "\n",
       "    .dataframe tbody tr th {\n",
       "        vertical-align: top;\n",
       "    }\n",
       "\n",
       "    .dataframe thead th {\n",
       "        text-align: right;\n",
       "    }\n",
       "</style>\n",
       "<table border=\"1\" class=\"dataframe\">\n",
       "  <thead>\n",
       "    <tr style=\"text-align: right;\">\n",
       "      <th></th>\n",
       "      <th>id</th>\n",
       "      <th>user_id</th>\n",
       "      <th>call_date</th>\n",
       "      <th>duration</th>\n",
       "    </tr>\n",
       "  </thead>\n",
       "  <tbody>\n",
       "    <tr>\n",
       "      <td>0</td>\n",
       "      <td>1000_93</td>\n",
       "      <td>1000</td>\n",
       "      <td>2018-12-27</td>\n",
       "      <td>8.52</td>\n",
       "    </tr>\n",
       "    <tr>\n",
       "      <td>1</td>\n",
       "      <td>1000_145</td>\n",
       "      <td>1000</td>\n",
       "      <td>2018-12-27</td>\n",
       "      <td>13.66</td>\n",
       "    </tr>\n",
       "    <tr>\n",
       "      <td>2</td>\n",
       "      <td>1000_247</td>\n",
       "      <td>1000</td>\n",
       "      <td>2018-12-27</td>\n",
       "      <td>14.48</td>\n",
       "    </tr>\n",
       "  </tbody>\n",
       "</table>\n",
       "</div>"
      ],
      "text/plain": [
       "         id  user_id   call_date  duration\n",
       "0   1000_93     1000  2018-12-27      8.52\n",
       "1  1000_145     1000  2018-12-27     13.66\n",
       "2  1000_247     1000  2018-12-27     14.48"
      ]
     },
     "execution_count": 3,
     "metadata": {},
     "output_type": "execute_result"
    }
   ],
   "source": [
    "df_calls.head(3)"
   ]
  },
  {
   "cell_type": "code",
   "execution_count": 4,
   "metadata": {},
   "outputs": [
    {
     "data": {
      "text/html": [
       "<div>\n",
       "<style scoped>\n",
       "    .dataframe tbody tr th:only-of-type {\n",
       "        vertical-align: middle;\n",
       "    }\n",
       "\n",
       "    .dataframe tbody tr th {\n",
       "        vertical-align: top;\n",
       "    }\n",
       "\n",
       "    .dataframe thead th {\n",
       "        text-align: right;\n",
       "    }\n",
       "</style>\n",
       "<table border=\"1\" class=\"dataframe\">\n",
       "  <thead>\n",
       "    <tr style=\"text-align: right;\">\n",
       "      <th></th>\n",
       "      <th>id</th>\n",
       "      <th>user_id</th>\n",
       "      <th>call_date</th>\n",
       "      <th>duration</th>\n",
       "    </tr>\n",
       "  </thead>\n",
       "  <tbody>\n",
       "    <tr>\n",
       "      <td>137732</td>\n",
       "      <td>1499_201</td>\n",
       "      <td>1499</td>\n",
       "      <td>2018-09-21</td>\n",
       "      <td>8.12</td>\n",
       "    </tr>\n",
       "    <tr>\n",
       "      <td>137733</td>\n",
       "      <td>1499_202</td>\n",
       "      <td>1499</td>\n",
       "      <td>2018-10-10</td>\n",
       "      <td>0.37</td>\n",
       "    </tr>\n",
       "    <tr>\n",
       "      <td>137734</td>\n",
       "      <td>1499_203</td>\n",
       "      <td>1499</td>\n",
       "      <td>2018-12-29</td>\n",
       "      <td>13.86</td>\n",
       "    </tr>\n",
       "  </tbody>\n",
       "</table>\n",
       "</div>"
      ],
      "text/plain": [
       "              id  user_id   call_date  duration\n",
       "137732  1499_201     1499  2018-09-21      8.12\n",
       "137733  1499_202     1499  2018-10-10      0.37\n",
       "137734  1499_203     1499  2018-12-29     13.86"
      ]
     },
     "execution_count": 4,
     "metadata": {},
     "output_type": "execute_result"
    }
   ],
   "source": [
    "df_calls.tail(3)"
   ]
  },
  {
   "cell_type": "code",
   "execution_count": 5,
   "metadata": {},
   "outputs": [
    {
     "name": "stdout",
     "output_type": "stream",
     "text": [
      "<class 'pandas.core.frame.DataFrame'>\n",
      "RangeIndex: 137735 entries, 0 to 137734\n",
      "Data columns (total 4 columns):\n",
      "id           137735 non-null object\n",
      "user_id      137735 non-null int64\n",
      "call_date    137735 non-null object\n",
      "duration     137735 non-null float64\n",
      "dtypes: float64(1), int64(1), object(2)\n",
      "memory usage: 4.2+ MB\n"
     ]
    }
   ],
   "source": [
    "df_calls.info()"
   ]
  },
  {
   "cell_type": "markdown",
   "metadata": {},
   "source": [
    "There is a column that shows a date but is not of this type, we will fix that later."
   ]
  },
  {
   "cell_type": "code",
   "execution_count": 6,
   "metadata": {},
   "outputs": [
    {
     "data": {
      "text/html": [
       "<div>\n",
       "<style scoped>\n",
       "    .dataframe tbody tr th:only-of-type {\n",
       "        vertical-align: middle;\n",
       "    }\n",
       "\n",
       "    .dataframe tbody tr th {\n",
       "        vertical-align: top;\n",
       "    }\n",
       "\n",
       "    .dataframe thead th {\n",
       "        text-align: right;\n",
       "    }\n",
       "</style>\n",
       "<table border=\"1\" class=\"dataframe\">\n",
       "  <thead>\n",
       "    <tr style=\"text-align: right;\">\n",
       "      <th></th>\n",
       "      <th>user_id</th>\n",
       "      <th>duration</th>\n",
       "    </tr>\n",
       "  </thead>\n",
       "  <tbody>\n",
       "    <tr>\n",
       "      <td>count</td>\n",
       "      <td>137735.000000</td>\n",
       "      <td>137735.000000</td>\n",
       "    </tr>\n",
       "    <tr>\n",
       "      <td>mean</td>\n",
       "      <td>1247.658046</td>\n",
       "      <td>6.745927</td>\n",
       "    </tr>\n",
       "    <tr>\n",
       "      <td>std</td>\n",
       "      <td>139.416268</td>\n",
       "      <td>5.839241</td>\n",
       "    </tr>\n",
       "    <tr>\n",
       "      <td>min</td>\n",
       "      <td>1000.000000</td>\n",
       "      <td>0.000000</td>\n",
       "    </tr>\n",
       "    <tr>\n",
       "      <td>25%</td>\n",
       "      <td>1128.000000</td>\n",
       "      <td>1.290000</td>\n",
       "    </tr>\n",
       "    <tr>\n",
       "      <td>50%</td>\n",
       "      <td>1247.000000</td>\n",
       "      <td>5.980000</td>\n",
       "    </tr>\n",
       "    <tr>\n",
       "      <td>75%</td>\n",
       "      <td>1365.000000</td>\n",
       "      <td>10.690000</td>\n",
       "    </tr>\n",
       "    <tr>\n",
       "      <td>max</td>\n",
       "      <td>1499.000000</td>\n",
       "      <td>37.600000</td>\n",
       "    </tr>\n",
       "  </tbody>\n",
       "</table>\n",
       "</div>"
      ],
      "text/plain": [
       "             user_id       duration\n",
       "count  137735.000000  137735.000000\n",
       "mean     1247.658046       6.745927\n",
       "std       139.416268       5.839241\n",
       "min      1000.000000       0.000000\n",
       "25%      1128.000000       1.290000\n",
       "50%      1247.000000       5.980000\n",
       "75%      1365.000000      10.690000\n",
       "max      1499.000000      37.600000"
      ]
     },
     "execution_count": 6,
     "metadata": {},
     "output_type": "execute_result"
    }
   ],
   "source": [
    "df_calls.describe()"
   ]
  },
  {
   "cell_type": "markdown",
   "metadata": {},
   "source": [
    "**Zero's check:**"
   ]
  },
  {
   "cell_type": "code",
   "execution_count": 7,
   "metadata": {},
   "outputs": [
    {
     "name": "stdout",
     "output_type": "stream",
     "text": [
      "id 0\n",
      "user_id 0\n",
      "call_date 0\n",
      "duration 26834 0.195\n"
     ]
    }
   ],
   "source": [
    "zeros(df_calls)"
   ]
  },
  {
   "cell_type": "markdown",
   "metadata": {},
   "source": [
    "About **20 percent** of the duration column has a value of 0. \n",
    "\n",
    "We will suspect these values as **outliers** values and we will examine now if so."
   ]
  },
  {
   "cell_type": "markdown",
   "metadata": {},
   "source": [
    "**We will make a histogram on the duration column and check if it is normally distributed since we want to use the \"three-sigma\" rule.**"
   ]
  },
  {
   "cell_type": "code",
   "execution_count": 8,
   "metadata": {},
   "outputs": [
    {
     "data": {
      "image/png": "[encoded data removed]",
      "text/plain": [
       "<Figure size 360x360 with 1 Axes>"
      ]
     },
     "metadata": {
      "needs_background": "light"
     },
     "output_type": "display_data"
    }
   ],
   "source": [
    "plt.figure(figsize=(5,5))\n",
    "plt.title('Calls durations', size = 20 ,color = 'pink')\n",
    "plt.xlabel('Duration',size =15)\n",
    "plt.ylabel('Frequency',size = 15)\n",
    "plt.hist(df_calls.duration ,bins=40, color = 'pink')\n",
    "plt.grid(color='white', linestyle='-.', linewidth=0.9)\n",
    "ax = plt.gca()\n",
    "ax.set_facecolor('lavender')\n",
    "plt.show;"
   ]
  },
  {
   "cell_type": "markdown",
   "metadata": {},
   "source": [
    "### Conclusion on duration column:\n",
    "##### It can certainly be seen that the data is distributed normally, and there is a peak when the value is 0.\n",
    "_We will use  the \"three-sigma\" rule.:_"
   ]
  },
  {
   "cell_type": "code",
   "execution_count": 9,
   "metadata": {},
   "outputs": [
    {
     "data": {
      "text/plain": [
       "1.0"
      ]
     },
     "execution_count": 9,
     "metadata": {},
     "output_type": "execute_result"
    }
   ],
   "source": [
    "x1 = df_calls.duration.mean()-3*np.std(df_calls.duration)\n",
    "x2 = df_calls.duration.mean()+3*np.std(df_calls.duration) \n",
    "filter_calls = df_calls[(df_calls['duration']<x2) & (df_calls['duration']>x1) ]\n",
    "round(len(filter_calls)/len(df_calls),2)"
   ]
  },
  {
   "cell_type": "markdown",
   "metadata": {},
   "source": [
    "#### Conclusion Examining the three sigmas:\n",
    "\n",
    "The whole data seems to be in the range of **+- 3 sigmas**.\n",
    "\n",
    "It can be concluded that our suspicious values (the 0 values) are **true values** and not outliers that need to be delited. We will consider them as a missed calls and will not remove them.."
   ]
  },
  {
   "cell_type": "markdown",
   "metadata": {},
   "source": [
    "**Check duplicated values:**"
   ]
  },
  {
   "cell_type": "code",
   "execution_count": 10,
   "metadata": {},
   "outputs": [
    {
     "name": "stdout",
     "output_type": "stream",
     "text": [
      "there is 0 duplicated values\n"
     ]
    }
   ],
   "source": [
    "print('there is',len(df_calls[df_calls.duplicated()]),'duplicated values')"
   ]
  },
  {
   "cell_type": "markdown",
   "metadata": {},
   "source": [
    "### Internet table: <a class=\"anchor\" id=\"internet\"></a>"
   ]
  },
  {
   "cell_type": "code",
   "execution_count": 11,
   "metadata": {},
   "outputs": [
    {
     "data": {
      "text/html": [
       "<div>\n",
       "<style scoped>\n",
       "    .dataframe tbody tr th:only-of-type {\n",
       "        vertical-align: middle;\n",
       "    }\n",
       "\n",
       "    .dataframe tbody tr th {\n",
       "        vertical-align: top;\n",
       "    }\n",
       "\n",
       "    .dataframe thead th {\n",
       "        text-align: right;\n",
       "    }\n",
       "</style>\n",
       "<table border=\"1\" class=\"dataframe\">\n",
       "  <thead>\n",
       "    <tr style=\"text-align: right;\">\n",
       "      <th></th>\n",
       "      <th>id</th>\n",
       "      <th>user_id</th>\n",
       "      <th>session_date</th>\n",
       "      <th>mb_used</th>\n",
       "    </tr>\n",
       "  </thead>\n",
       "  <tbody>\n",
       "    <tr>\n",
       "      <td>0</td>\n",
       "      <td>1000_13</td>\n",
       "      <td>1000</td>\n",
       "      <td>2018-12-29</td>\n",
       "      <td>89.86</td>\n",
       "    </tr>\n",
       "    <tr>\n",
       "      <td>1</td>\n",
       "      <td>1000_204</td>\n",
       "      <td>1000</td>\n",
       "      <td>2018-12-31</td>\n",
       "      <td>0.00</td>\n",
       "    </tr>\n",
       "    <tr>\n",
       "      <td>2</td>\n",
       "      <td>1000_379</td>\n",
       "      <td>1000</td>\n",
       "      <td>2018-12-28</td>\n",
       "      <td>660.40</td>\n",
       "    </tr>\n",
       "  </tbody>\n",
       "</table>\n",
       "</div>"
      ],
      "text/plain": [
       "         id  user_id session_date  mb_used\n",
       "0   1000_13     1000   2018-12-29    89.86\n",
       "1  1000_204     1000   2018-12-31     0.00\n",
       "2  1000_379     1000   2018-12-28   660.40"
      ]
     },
     "execution_count": 11,
     "metadata": {},
     "output_type": "execute_result"
    }
   ],
   "source": [
    "df_internet.head(3)"
   ]
  },
  {
   "cell_type": "code",
   "execution_count": 12,
   "metadata": {},
   "outputs": [
    {
     "data": {
      "text/html": [
       "<div>\n",
       "<style scoped>\n",
       "    .dataframe tbody tr th:only-of-type {\n",
       "        vertical-align: middle;\n",
       "    }\n",
       "\n",
       "    .dataframe tbody tr th {\n",
       "        vertical-align: top;\n",
       "    }\n",
       "\n",
       "    .dataframe thead th {\n",
       "        text-align: right;\n",
       "    }\n",
       "</style>\n",
       "<table border=\"1\" class=\"dataframe\">\n",
       "  <thead>\n",
       "    <tr style=\"text-align: right;\">\n",
       "      <th></th>\n",
       "      <th>id</th>\n",
       "      <th>user_id</th>\n",
       "      <th>session_date</th>\n",
       "      <th>mb_used</th>\n",
       "    </tr>\n",
       "  </thead>\n",
       "  <tbody>\n",
       "    <tr>\n",
       "      <td>104822</td>\n",
       "      <td>1499_217</td>\n",
       "      <td>1499</td>\n",
       "      <td>2018-09-22</td>\n",
       "      <td>292.75</td>\n",
       "    </tr>\n",
       "    <tr>\n",
       "      <td>104823</td>\n",
       "      <td>1499_218</td>\n",
       "      <td>1499</td>\n",
       "      <td>2018-12-07</td>\n",
       "      <td>0.00</td>\n",
       "    </tr>\n",
       "    <tr>\n",
       "      <td>104824</td>\n",
       "      <td>1499_219</td>\n",
       "      <td>1499</td>\n",
       "      <td>2018-12-24</td>\n",
       "      <td>758.31</td>\n",
       "    </tr>\n",
       "  </tbody>\n",
       "</table>\n",
       "</div>"
      ],
      "text/plain": [
       "              id  user_id session_date  mb_used\n",
       "104822  1499_217     1499   2018-09-22   292.75\n",
       "104823  1499_218     1499   2018-12-07     0.00\n",
       "104824  1499_219     1499   2018-12-24   758.31"
      ]
     },
     "execution_count": 12,
     "metadata": {},
     "output_type": "execute_result"
    }
   ],
   "source": [
    "df_internet.tail(3)"
   ]
  },
  {
   "cell_type": "code",
   "execution_count": 13,
   "metadata": {},
   "outputs": [
    {
     "name": "stdout",
     "output_type": "stream",
     "text": [
      "<class 'pandas.core.frame.DataFrame'>\n",
      "RangeIndex: 104825 entries, 0 to 104824\n",
      "Data columns (total 4 columns):\n",
      "id              104825 non-null object\n",
      "user_id         104825 non-null int64\n",
      "session_date    104825 non-null object\n",
      "mb_used         104825 non-null float64\n",
      "dtypes: float64(1), int64(1), object(2)\n",
      "memory usage: 3.2+ MB\n"
     ]
    }
   ],
   "source": [
    "df_internet.info()"
   ]
  },
  {
   "cell_type": "markdown",
   "metadata": {},
   "source": [
    "There is a column that shows a date but is not of this type, we will fix that later."
   ]
  },
  {
   "cell_type": "code",
   "execution_count": 14,
   "metadata": {},
   "outputs": [
    {
     "data": {
      "text/html": [
       "<div>\n",
       "<style scoped>\n",
       "    .dataframe tbody tr th:only-of-type {\n",
       "        vertical-align: middle;\n",
       "    }\n",
       "\n",
       "    .dataframe tbody tr th {\n",
       "        vertical-align: top;\n",
       "    }\n",
       "\n",
       "    .dataframe thead th {\n",
       "        text-align: right;\n",
       "    }\n",
       "</style>\n",
       "<table border=\"1\" class=\"dataframe\">\n",
       "  <thead>\n",
       "    <tr style=\"text-align: right;\">\n",
       "      <th></th>\n",
       "      <th>user_id</th>\n",
       "      <th>mb_used</th>\n",
       "    </tr>\n",
       "  </thead>\n",
       "  <tbody>\n",
       "    <tr>\n",
       "      <td>count</td>\n",
       "      <td>104825.000000</td>\n",
       "      <td>104825.000000</td>\n",
       "    </tr>\n",
       "    <tr>\n",
       "      <td>mean</td>\n",
       "      <td>1242.496361</td>\n",
       "      <td>366.713701</td>\n",
       "    </tr>\n",
       "    <tr>\n",
       "      <td>std</td>\n",
       "      <td>142.053913</td>\n",
       "      <td>277.170542</td>\n",
       "    </tr>\n",
       "    <tr>\n",
       "      <td>min</td>\n",
       "      <td>1000.000000</td>\n",
       "      <td>0.000000</td>\n",
       "    </tr>\n",
       "    <tr>\n",
       "      <td>25%</td>\n",
       "      <td>1122.000000</td>\n",
       "      <td>136.080000</td>\n",
       "    </tr>\n",
       "    <tr>\n",
       "      <td>50%</td>\n",
       "      <td>1236.000000</td>\n",
       "      <td>343.980000</td>\n",
       "    </tr>\n",
       "    <tr>\n",
       "      <td>75%</td>\n",
       "      <td>1367.000000</td>\n",
       "      <td>554.610000</td>\n",
       "    </tr>\n",
       "    <tr>\n",
       "      <td>max</td>\n",
       "      <td>1499.000000</td>\n",
       "      <td>1693.470000</td>\n",
       "    </tr>\n",
       "  </tbody>\n",
       "</table>\n",
       "</div>"
      ],
      "text/plain": [
       "             user_id        mb_used\n",
       "count  104825.000000  104825.000000\n",
       "mean     1242.496361     366.713701\n",
       "std       142.053913     277.170542\n",
       "min      1000.000000       0.000000\n",
       "25%      1122.000000     136.080000\n",
       "50%      1236.000000     343.980000\n",
       "75%      1367.000000     554.610000\n",
       "max      1499.000000    1693.470000"
      ]
     },
     "execution_count": 14,
     "metadata": {},
     "output_type": "execute_result"
    }
   ],
   "source": [
    "df_internet.describe()"
   ]
  },
  {
   "cell_type": "markdown",
   "metadata": {},
   "source": [
    "**Zero's check:**"
   ]
  },
  {
   "cell_type": "code",
   "execution_count": 15,
   "metadata": {},
   "outputs": [
    {
     "name": "stdout",
     "output_type": "stream",
     "text": [
      "id 0\n",
      "user_id 0\n",
      "session_date 0\n",
      "mb_used 13747 0.131\n"
     ]
    }
   ],
   "source": [
    "zeros(df_internet)"
   ]
  },
  {
   "cell_type": "markdown",
   "metadata": {},
   "source": [
    "About **13 percent** of the mb_used  column has a value of 0. \n",
    "\n",
    "We will suspect these values as **outliers** values and we will examine now if so."
   ]
  },
  {
   "cell_type": "markdown",
   "metadata": {},
   "source": [
    "**We will make a histogram on the mb_used column and check if it is normally distributed since we want to use the \"three-sigma\" rule.**"
   ]
  },
  {
   "cell_type": "code",
   "execution_count": 16,
   "metadata": {
    "scrolled": true
   },
   "outputs": [
    {
     "data": {
      "image/png": "[encoded data removed]",
      "text/plain": [
       "<Figure size 360x360 with 1 Axes>"
      ]
     },
     "metadata": {
      "needs_background": "light"
     },
     "output_type": "display_data"
    }
   ],
   "source": [
    "plt.figure(figsize=(5,5))\n",
    "plt.title('Internet mb_used', size = 20,color= 'b')\n",
    "plt.xlabel('Data (mg) used',size =15)\n",
    "plt.ylabel('Frequency',size = 15)\n",
    "plt.hist(df_internet.mb_used ,bins=40, color = 'b')\n",
    "plt.grid(color='white', linestyle='-.', linewidth=0.9)\n",
    "ax = plt.gca()\n",
    "ax.set_facecolor('lavender')\n",
    "plt.show();"
   ]
  },
  {
   "cell_type": "markdown",
   "metadata": {},
   "source": [
    "### Conclusion on duration column:\n",
    "##### It can certainly be seen that the data is distributed normally, and there is a peak when the value is 0.\n",
    "_We will use  the \"three-sigma\" rule.:_"
   ]
  },
  {
   "cell_type": "code",
   "execution_count": 17,
   "metadata": {},
   "outputs": [
    {
     "data": {
      "text/plain": [
       "1.0"
      ]
     },
     "execution_count": 17,
     "metadata": {},
     "output_type": "execute_result"
    }
   ],
   "source": [
    "x1 = df_internet.mb_used.mean()-3*np.std(df_internet.mb_used)\n",
    "x2 = df_internet.mb_used.mean()+3*np.std(df_internet.mb_used) \n",
    "filter_internet = df_internet[(df_internet['mb_used']<x2) & (df_internet['mb_used']>x1) ]\n",
    "round(len(filter_internet)/len(df_internet),2)"
   ]
  },
  {
   "cell_type": "markdown",
   "metadata": {},
   "source": [
    "#### Conclusion Examining the three sigmas:\n",
    "\n",
    "The whole data seems to be in the range of **+- 3 sigmas**.\n",
    "\n",
    "It can be concluded that our suspicious values (the 0 values) are **true values** and not outlier that need to be deliteded. We will consider them as **momentary use of surfing that did not create a charge** and will not remove them."
   ]
  },
  {
   "cell_type": "markdown",
   "metadata": {},
   "source": [
    "**Check duplicated values:**"
   ]
  },
  {
   "cell_type": "code",
   "execution_count": 18,
   "metadata": {},
   "outputs": [
    {
     "name": "stdout",
     "output_type": "stream",
     "text": [
      "there is 0 duplicated values on df_internet tale \n"
     ]
    }
   ],
   "source": [
    "print('there is',len(df_internet[df_internet.duplicated()]),'duplicated values on df_internet tale ')"
   ]
  },
  {
   "cell_type": "markdown",
   "metadata": {},
   "source": [
    "### Messages table: <a class=\"anchor\" id=\"messages\"></a>"
   ]
  },
  {
   "cell_type": "code",
   "execution_count": 19,
   "metadata": {},
   "outputs": [
    {
     "data": {
      "text/html": [
       "<div>\n",
       "<style scoped>\n",
       "    .dataframe tbody tr th:only-of-type {\n",
       "        vertical-align: middle;\n",
       "    }\n",
       "\n",
       "    .dataframe tbody tr th {\n",
       "        vertical-align: top;\n",
       "    }\n",
       "\n",
       "    .dataframe thead th {\n",
       "        text-align: right;\n",
       "    }\n",
       "</style>\n",
       "<table border=\"1\" class=\"dataframe\">\n",
       "  <thead>\n",
       "    <tr style=\"text-align: right;\">\n",
       "      <th></th>\n",
       "      <th>id</th>\n",
       "      <th>user_id</th>\n",
       "      <th>message_date</th>\n",
       "    </tr>\n",
       "  </thead>\n",
       "  <tbody>\n",
       "    <tr>\n",
       "      <td>0</td>\n",
       "      <td>1000_125</td>\n",
       "      <td>1000</td>\n",
       "      <td>2018-12-27</td>\n",
       "    </tr>\n",
       "    <tr>\n",
       "      <td>1</td>\n",
       "      <td>1000_160</td>\n",
       "      <td>1000</td>\n",
       "      <td>2018-12-31</td>\n",
       "    </tr>\n",
       "    <tr>\n",
       "      <td>2</td>\n",
       "      <td>1000_223</td>\n",
       "      <td>1000</td>\n",
       "      <td>2018-12-31</td>\n",
       "    </tr>\n",
       "  </tbody>\n",
       "</table>\n",
       "</div>"
      ],
      "text/plain": [
       "         id  user_id message_date\n",
       "0  1000_125     1000   2018-12-27\n",
       "1  1000_160     1000   2018-12-31\n",
       "2  1000_223     1000   2018-12-31"
      ]
     },
     "execution_count": 19,
     "metadata": {},
     "output_type": "execute_result"
    }
   ],
   "source": [
    "df_messages.head(3)"
   ]
  },
  {
   "cell_type": "code",
   "execution_count": 20,
   "metadata": {},
   "outputs": [
    {
     "data": {
      "text/html": [
       "<div>\n",
       "<style scoped>\n",
       "    .dataframe tbody tr th:only-of-type {\n",
       "        vertical-align: middle;\n",
       "    }\n",
       "\n",
       "    .dataframe tbody tr th {\n",
       "        vertical-align: top;\n",
       "    }\n",
       "\n",
       "    .dataframe thead th {\n",
       "        text-align: right;\n",
       "    }\n",
       "</style>\n",
       "<table border=\"1\" class=\"dataframe\">\n",
       "  <thead>\n",
       "    <tr style=\"text-align: right;\">\n",
       "      <th></th>\n",
       "      <th>id</th>\n",
       "      <th>user_id</th>\n",
       "      <th>message_date</th>\n",
       "    </tr>\n",
       "  </thead>\n",
       "  <tbody>\n",
       "    <tr>\n",
       "      <td>76048</td>\n",
       "      <td>1497_547</td>\n",
       "      <td>1497</td>\n",
       "      <td>2018-12-31</td>\n",
       "    </tr>\n",
       "    <tr>\n",
       "      <td>76049</td>\n",
       "      <td>1497_558</td>\n",
       "      <td>1497</td>\n",
       "      <td>2018-12-24</td>\n",
       "    </tr>\n",
       "    <tr>\n",
       "      <td>76050</td>\n",
       "      <td>1497_613</td>\n",
       "      <td>1497</td>\n",
       "      <td>2018-12-23</td>\n",
       "    </tr>\n",
       "  </tbody>\n",
       "</table>\n",
       "</div>"
      ],
      "text/plain": [
       "             id  user_id message_date\n",
       "76048  1497_547     1497   2018-12-31\n",
       "76049  1497_558     1497   2018-12-24\n",
       "76050  1497_613     1497   2018-12-23"
      ]
     },
     "execution_count": 20,
     "metadata": {},
     "output_type": "execute_result"
    }
   ],
   "source": [
    "df_messages.tail(3)"
   ]
  },
  {
   "cell_type": "code",
   "execution_count": 21,
   "metadata": {},
   "outputs": [
    {
     "name": "stdout",
     "output_type": "stream",
     "text": [
      "<class 'pandas.core.frame.DataFrame'>\n",
      "RangeIndex: 76051 entries, 0 to 76050\n",
      "Data columns (total 3 columns):\n",
      "id              76051 non-null object\n",
      "user_id         76051 non-null int64\n",
      "message_date    76051 non-null object\n",
      "dtypes: int64(1), object(2)\n",
      "memory usage: 1.7+ MB\n"
     ]
    }
   ],
   "source": [
    "df_messages.info() "
   ]
  },
  {
   "cell_type": "markdown",
   "metadata": {},
   "source": [
    "There is a column that shows a date but is not of this type, we will fix that later."
   ]
  },
  {
   "cell_type": "code",
   "execution_count": 22,
   "metadata": {},
   "outputs": [
    {
     "data": {
      "text/html": [
       "<div>\n",
       "<style scoped>\n",
       "    .dataframe tbody tr th:only-of-type {\n",
       "        vertical-align: middle;\n",
       "    }\n",
       "\n",
       "    .dataframe tbody tr th {\n",
       "        vertical-align: top;\n",
       "    }\n",
       "\n",
       "    .dataframe thead th {\n",
       "        text-align: right;\n",
       "    }\n",
       "</style>\n",
       "<table border=\"1\" class=\"dataframe\">\n",
       "  <thead>\n",
       "    <tr style=\"text-align: right;\">\n",
       "      <th></th>\n",
       "      <th>user_id</th>\n",
       "    </tr>\n",
       "  </thead>\n",
       "  <tbody>\n",
       "    <tr>\n",
       "      <td>count</td>\n",
       "      <td>76051.000000</td>\n",
       "    </tr>\n",
       "    <tr>\n",
       "      <td>mean</td>\n",
       "      <td>1245.972768</td>\n",
       "    </tr>\n",
       "    <tr>\n",
       "      <td>std</td>\n",
       "      <td>139.843635</td>\n",
       "    </tr>\n",
       "    <tr>\n",
       "      <td>min</td>\n",
       "      <td>1000.000000</td>\n",
       "    </tr>\n",
       "    <tr>\n",
       "      <td>25%</td>\n",
       "      <td>1123.000000</td>\n",
       "    </tr>\n",
       "    <tr>\n",
       "      <td>50%</td>\n",
       "      <td>1251.000000</td>\n",
       "    </tr>\n",
       "    <tr>\n",
       "      <td>75%</td>\n",
       "      <td>1362.000000</td>\n",
       "    </tr>\n",
       "    <tr>\n",
       "      <td>max</td>\n",
       "      <td>1497.000000</td>\n",
       "    </tr>\n",
       "  </tbody>\n",
       "</table>\n",
       "</div>"
      ],
      "text/plain": [
       "            user_id\n",
       "count  76051.000000\n",
       "mean    1245.972768\n",
       "std      139.843635\n",
       "min     1000.000000\n",
       "25%     1123.000000\n",
       "50%     1251.000000\n",
       "75%     1362.000000\n",
       "max     1497.000000"
      ]
     },
     "execution_count": 22,
     "metadata": {},
     "output_type": "execute_result"
    }
   ],
   "source": [
    "df_messages.describe()"
   ]
  },
  {
   "cell_type": "markdown",
   "metadata": {},
   "source": [
    "**Zero's check:**"
   ]
  },
  {
   "cell_type": "code",
   "execution_count": 23,
   "metadata": {},
   "outputs": [
    {
     "name": "stdout",
     "output_type": "stream",
     "text": [
      "id 0\n",
      "user_id 0\n",
      "message_date 0\n"
     ]
    }
   ],
   "source": [
    "zeros(df_messages)"
   ]
  },
  {
   "cell_type": "markdown",
   "metadata": {},
   "source": [
    "Everything seems to be fine! We will check the distribution-"
   ]
  },
  {
   "cell_type": "code",
   "execution_count": 24,
   "metadata": {},
   "outputs": [
    {
     "data": {
      "text/html": [
       "<div>\n",
       "<style scoped>\n",
       "    .dataframe tbody tr th:only-of-type {\n",
       "        vertical-align: middle;\n",
       "    }\n",
       "\n",
       "    .dataframe tbody tr th {\n",
       "        vertical-align: top;\n",
       "    }\n",
       "\n",
       "    .dataframe thead th {\n",
       "        text-align: right;\n",
       "    }\n",
       "</style>\n",
       "<table border=\"1\" class=\"dataframe\">\n",
       "  <thead>\n",
       "    <tr style=\"text-align: right;\">\n",
       "      <th></th>\n",
       "      <th>user_id</th>\n",
       "      <th>id</th>\n",
       "    </tr>\n",
       "  </thead>\n",
       "  <tbody>\n",
       "    <tr>\n",
       "      <td>count</td>\n",
       "      <td>402.000000</td>\n",
       "      <td>402.000000</td>\n",
       "    </tr>\n",
       "    <tr>\n",
       "      <td>mean</td>\n",
       "      <td>1248.639303</td>\n",
       "      <td>189.181592</td>\n",
       "    </tr>\n",
       "    <tr>\n",
       "      <td>std</td>\n",
       "      <td>143.678749</td>\n",
       "      <td>192.207920</td>\n",
       "    </tr>\n",
       "    <tr>\n",
       "      <td>min</td>\n",
       "      <td>1000.000000</td>\n",
       "      <td>1.000000</td>\n",
       "    </tr>\n",
       "    <tr>\n",
       "      <td>25%</td>\n",
       "      <td>1124.250000</td>\n",
       "      <td>60.000000</td>\n",
       "    </tr>\n",
       "    <tr>\n",
       "      <td>50%</td>\n",
       "      <td>1247.500000</td>\n",
       "      <td>126.500000</td>\n",
       "    </tr>\n",
       "    <tr>\n",
       "      <td>75%</td>\n",
       "      <td>1372.750000</td>\n",
       "      <td>258.750000</td>\n",
       "    </tr>\n",
       "    <tr>\n",
       "      <td>max</td>\n",
       "      <td>1497.000000</td>\n",
       "      <td>1288.000000</td>\n",
       "    </tr>\n",
       "  </tbody>\n",
       "</table>\n",
       "</div>"
      ],
      "text/plain": [
       "           user_id           id\n",
       "count   402.000000   402.000000\n",
       "mean   1248.639303   189.181592\n",
       "std     143.678749   192.207920\n",
       "min    1000.000000     1.000000\n",
       "25%    1124.250000    60.000000\n",
       "50%    1247.500000   126.500000\n",
       "75%    1372.750000   258.750000\n",
       "max    1497.000000  1288.000000"
      ]
     },
     "execution_count": 24,
     "metadata": {},
     "output_type": "execute_result"
    }
   ],
   "source": [
    "messages = df_messages.groupby('user_id')['id'].count().reset_index()\n",
    "messages.describe()"
   ]
  },
  {
   "cell_type": "code",
   "execution_count": 25,
   "metadata": {},
   "outputs": [
    {
     "data": {
      "image/png": "[encoded data removed]",
      "text/plain": [
       "<Figure size 360x360 with 1 Axes>"
      ]
     },
     "metadata": {
      "needs_background": "light"
     },
     "output_type": "display_data"
    }
   ],
   "source": [
    "plt.figure(figsize=(5,5))\n",
    "plt.title('Messages per user_id', size = 20,color= 'g')\n",
    "plt.xlabel('Text meesages per user',size =15)\n",
    "plt.ylabel('Frequency',size = 15)\n",
    "plt.hist(messages.id ,bins=40, color = 'g')\n",
    "plt.grid(color='white', linestyle='-.', linewidth=0.9)\n",
    "ax = plt.gca()\n",
    "ax.set_facecolor('lavender')\n",
    "plt.show();"
   ]
  },
  {
   "cell_type": "markdown",
   "metadata": {},
   "source": [
    "This histogram shows the usage of users' messages.\n",
    "\n",
    "It can be seen that the distribution is normal but skewed to the right, it can be assumed that this skewed is due to a large difference in the use of text messages between users. \n",
    "\n",
    "**Hypothesis that we may test** - is there an inverse relationship (-1 in the Pearson rule) between the use of the Internet by the user and the use of messages? (Those who use the Internet to send messages use less SMS) Who knows ...."
   ]
  },
  {
   "cell_type": "markdown",
   "metadata": {},
   "source": [
    "**Check duplicated values:**"
   ]
  },
  {
   "cell_type": "code",
   "execution_count": 26,
   "metadata": {},
   "outputs": [
    {
     "name": "stdout",
     "output_type": "stream",
     "text": [
      "there is 0 duplicated values on df_messages tale \n"
     ]
    }
   ],
   "source": [
    "print('there is',len(df_messages[df_messages.duplicated()]),'duplicated values on df_messages tale ')"
   ]
  },
  {
   "cell_type": "markdown",
   "metadata": {},
   "source": [
    "### Plan table:"
   ]
  },
  {
   "cell_type": "code",
   "execution_count": 27,
   "metadata": {},
   "outputs": [
    {
     "data": {
      "text/html": [
       "<div>\n",
       "<style scoped>\n",
       "    .dataframe tbody tr th:only-of-type {\n",
       "        vertical-align: middle;\n",
       "    }\n",
       "\n",
       "    .dataframe tbody tr th {\n",
       "        vertical-align: top;\n",
       "    }\n",
       "\n",
       "    .dataframe thead th {\n",
       "        text-align: right;\n",
       "    }\n",
       "</style>\n",
       "<table border=\"1\" class=\"dataframe\">\n",
       "  <thead>\n",
       "    <tr style=\"text-align: right;\">\n",
       "      <th></th>\n",
       "      <th>messages_included</th>\n",
       "      <th>mb_per_month_included</th>\n",
       "      <th>minutes_included</th>\n",
       "      <th>usd_monthly_pay</th>\n",
       "      <th>usd_per_gb</th>\n",
       "      <th>usd_per_message</th>\n",
       "      <th>usd_per_minute</th>\n",
       "      <th>plan_name</th>\n",
       "    </tr>\n",
       "  </thead>\n",
       "  <tbody>\n",
       "    <tr>\n",
       "      <td>0</td>\n",
       "      <td>50</td>\n",
       "      <td>15360</td>\n",
       "      <td>500</td>\n",
       "      <td>20</td>\n",
       "      <td>10</td>\n",
       "      <td>0.03</td>\n",
       "      <td>0.03</td>\n",
       "      <td>surf</td>\n",
       "    </tr>\n",
       "    <tr>\n",
       "      <td>1</td>\n",
       "      <td>1000</td>\n",
       "      <td>30720</td>\n",
       "      <td>3000</td>\n",
       "      <td>70</td>\n",
       "      <td>7</td>\n",
       "      <td>0.01</td>\n",
       "      <td>0.01</td>\n",
       "      <td>ultimate</td>\n",
       "    </tr>\n",
       "  </tbody>\n",
       "</table>\n",
       "</div>"
      ],
      "text/plain": [
       "   messages_included  mb_per_month_included  minutes_included  \\\n",
       "0                 50                  15360               500   \n",
       "1               1000                  30720              3000   \n",
       "\n",
       "   usd_monthly_pay  usd_per_gb  usd_per_message  usd_per_minute plan_name  \n",
       "0               20          10             0.03            0.03      surf  \n",
       "1               70           7             0.01            0.01  ultimate  "
      ]
     },
     "execution_count": 27,
     "metadata": {},
     "output_type": "execute_result"
    }
   ],
   "source": [
    "df_plans"
   ]
  },
  {
   "cell_type": "code",
   "execution_count": 28,
   "metadata": {},
   "outputs": [
    {
     "name": "stdout",
     "output_type": "stream",
     "text": [
      "<class 'pandas.core.frame.DataFrame'>\n",
      "RangeIndex: 2 entries, 0 to 1\n",
      "Data columns (total 8 columns):\n",
      "messages_included        2 non-null int64\n",
      "mb_per_month_included    2 non-null int64\n",
      "minutes_included         2 non-null int64\n",
      "usd_monthly_pay          2 non-null int64\n",
      "usd_per_gb               2 non-null int64\n",
      "usd_per_message          2 non-null float64\n",
      "usd_per_minute           2 non-null float64\n",
      "plan_name                2 non-null object\n",
      "dtypes: float64(2), int64(5), object(1)\n",
      "memory usage: 256.0+ bytes\n"
     ]
    }
   ],
   "source": [
    "df_plans.info()"
   ]
  },
  {
   "cell_type": "markdown",
   "metadata": {},
   "source": [
    "### Users table:<a class=\"anchor\" id=\"user\"></a>"
   ]
  },
  {
   "cell_type": "code",
   "execution_count": 29,
   "metadata": {},
   "outputs": [
    {
     "data": {
      "text/html": [
       "<div>\n",
       "<style scoped>\n",
       "    .dataframe tbody tr th:only-of-type {\n",
       "        vertical-align: middle;\n",
       "    }\n",
       "\n",
       "    .dataframe tbody tr th {\n",
       "        vertical-align: top;\n",
       "    }\n",
       "\n",
       "    .dataframe thead th {\n",
       "        text-align: right;\n",
       "    }\n",
       "</style>\n",
       "<table border=\"1\" class=\"dataframe\">\n",
       "  <thead>\n",
       "    <tr style=\"text-align: right;\">\n",
       "      <th></th>\n",
       "      <th>user_id</th>\n",
       "      <th>first_name</th>\n",
       "      <th>last_name</th>\n",
       "      <th>age</th>\n",
       "      <th>city</th>\n",
       "      <th>reg_date</th>\n",
       "      <th>plan</th>\n",
       "      <th>churn_date</th>\n",
       "    </tr>\n",
       "  </thead>\n",
       "  <tbody>\n",
       "    <tr>\n",
       "      <td>0</td>\n",
       "      <td>1000</td>\n",
       "      <td>Anamaria</td>\n",
       "      <td>Bauer</td>\n",
       "      <td>45</td>\n",
       "      <td>Atlanta-Sandy Springs-Roswell, GA MSA</td>\n",
       "      <td>2018-12-24</td>\n",
       "      <td>ultimate</td>\n",
       "      <td>NaN</td>\n",
       "    </tr>\n",
       "    <tr>\n",
       "      <td>1</td>\n",
       "      <td>1001</td>\n",
       "      <td>Mickey</td>\n",
       "      <td>Wilkerson</td>\n",
       "      <td>28</td>\n",
       "      <td>Seattle-Tacoma-Bellevue, WA MSA</td>\n",
       "      <td>2018-08-13</td>\n",
       "      <td>surf</td>\n",
       "      <td>NaN</td>\n",
       "    </tr>\n",
       "    <tr>\n",
       "      <td>2</td>\n",
       "      <td>1002</td>\n",
       "      <td>Carlee</td>\n",
       "      <td>Hoffman</td>\n",
       "      <td>36</td>\n",
       "      <td>Las Vegas-Henderson-Paradise, NV MSA</td>\n",
       "      <td>2018-10-21</td>\n",
       "      <td>surf</td>\n",
       "      <td>NaN</td>\n",
       "    </tr>\n",
       "  </tbody>\n",
       "</table>\n",
       "</div>"
      ],
      "text/plain": [
       "   user_id first_name  last_name  age                                   city  \\\n",
       "0     1000   Anamaria      Bauer   45  Atlanta-Sandy Springs-Roswell, GA MSA   \n",
       "1     1001     Mickey  Wilkerson   28        Seattle-Tacoma-Bellevue, WA MSA   \n",
       "2     1002     Carlee    Hoffman   36   Las Vegas-Henderson-Paradise, NV MSA   \n",
       "\n",
       "     reg_date      plan churn_date  \n",
       "0  2018-12-24  ultimate        NaN  \n",
       "1  2018-08-13      surf        NaN  \n",
       "2  2018-10-21      surf        NaN  "
      ]
     },
     "execution_count": 29,
     "metadata": {},
     "output_type": "execute_result"
    }
   ],
   "source": [
    "df_users.head(3)"
   ]
  },
  {
   "cell_type": "code",
   "execution_count": 30,
   "metadata": {},
   "outputs": [
    {
     "data": {
      "text/html": [
       "<div>\n",
       "<style scoped>\n",
       "    .dataframe tbody tr th:only-of-type {\n",
       "        vertical-align: middle;\n",
       "    }\n",
       "\n",
       "    .dataframe tbody tr th {\n",
       "        vertical-align: top;\n",
       "    }\n",
       "\n",
       "    .dataframe thead th {\n",
       "        text-align: right;\n",
       "    }\n",
       "</style>\n",
       "<table border=\"1\" class=\"dataframe\">\n",
       "  <thead>\n",
       "    <tr style=\"text-align: right;\">\n",
       "      <th></th>\n",
       "      <th>user_id</th>\n",
       "      <th>first_name</th>\n",
       "      <th>last_name</th>\n",
       "      <th>age</th>\n",
       "      <th>city</th>\n",
       "      <th>reg_date</th>\n",
       "      <th>plan</th>\n",
       "      <th>churn_date</th>\n",
       "    </tr>\n",
       "  </thead>\n",
       "  <tbody>\n",
       "    <tr>\n",
       "      <td>497</td>\n",
       "      <td>1497</td>\n",
       "      <td>Donte</td>\n",
       "      <td>Barrera</td>\n",
       "      <td>49</td>\n",
       "      <td>Los Angeles-Long Beach-Anaheim, CA MSA</td>\n",
       "      <td>2018-12-10</td>\n",
       "      <td>ultimate</td>\n",
       "      <td>NaN</td>\n",
       "    </tr>\n",
       "    <tr>\n",
       "      <td>498</td>\n",
       "      <td>1498</td>\n",
       "      <td>Scot</td>\n",
       "      <td>Williamson</td>\n",
       "      <td>51</td>\n",
       "      <td>New York-Newark-Jersey City, NY-NJ-PA MSA</td>\n",
       "      <td>2018-02-04</td>\n",
       "      <td>surf</td>\n",
       "      <td>NaN</td>\n",
       "    </tr>\n",
       "    <tr>\n",
       "      <td>499</td>\n",
       "      <td>1499</td>\n",
       "      <td>Shena</td>\n",
       "      <td>Dickson</td>\n",
       "      <td>37</td>\n",
       "      <td>Orlando-Kissimmee-Sanford, FL MSA</td>\n",
       "      <td>2018-05-06</td>\n",
       "      <td>surf</td>\n",
       "      <td>NaN</td>\n",
       "    </tr>\n",
       "  </tbody>\n",
       "</table>\n",
       "</div>"
      ],
      "text/plain": [
       "     user_id first_name   last_name  age  \\\n",
       "497     1497      Donte     Barrera   49   \n",
       "498     1498       Scot  Williamson   51   \n",
       "499     1499      Shena     Dickson   37   \n",
       "\n",
       "                                          city    reg_date      plan  \\\n",
       "497     Los Angeles-Long Beach-Anaheim, CA MSA  2018-12-10  ultimate   \n",
       "498  New York-Newark-Jersey City, NY-NJ-PA MSA  2018-02-04      surf   \n",
       "499          Orlando-Kissimmee-Sanford, FL MSA  2018-05-06      surf   \n",
       "\n",
       "    churn_date  \n",
       "497        NaN  \n",
       "498        NaN  \n",
       "499        NaN  "
      ]
     },
     "execution_count": 30,
     "metadata": {},
     "output_type": "execute_result"
    }
   ],
   "source": [
    "df_users.tail(3)"
   ]
  },
  {
   "cell_type": "code",
   "execution_count": 31,
   "metadata": {},
   "outputs": [
    {
     "name": "stdout",
     "output_type": "stream",
     "text": [
      "<class 'pandas.core.frame.DataFrame'>\n",
      "RangeIndex: 500 entries, 0 to 499\n",
      "Data columns (total 8 columns):\n",
      "user_id       500 non-null int64\n",
      "first_name    500 non-null object\n",
      "last_name     500 non-null object\n",
      "age           500 non-null int64\n",
      "city          500 non-null object\n",
      "reg_date      500 non-null object\n",
      "plan          500 non-null object\n",
      "churn_date    34 non-null object\n",
      "dtypes: int64(2), object(6)\n",
      "memory usage: 31.4+ KB\n"
     ]
    }
   ],
   "source": [
    "df_users.info()"
   ]
  },
  {
   "cell_type": "markdown",
   "metadata": {},
   "source": [
    "There is a columns that shows a date but them not of this type, we will fix that later.\n",
    "\n",
    "There are lots of NULL values in the \"churn_date\" column but that's actually a good sign, not many customers have left the company! We will check if they belonged to a particular program:"
   ]
  },
  {
   "cell_type": "code",
   "execution_count": 32,
   "metadata": {},
   "outputs": [
    {
     "data": {
      "text/html": [
       "<div>\n",
       "<style scoped>\n",
       "    .dataframe tbody tr th:only-of-type {\n",
       "        vertical-align: middle;\n",
       "    }\n",
       "\n",
       "    .dataframe tbody tr th {\n",
       "        vertical-align: top;\n",
       "    }\n",
       "\n",
       "    .dataframe thead th {\n",
       "        text-align: right;\n",
       "    }\n",
       "</style>\n",
       "<table border=\"1\" class=\"dataframe\">\n",
       "  <thead>\n",
       "    <tr style=\"text-align: right;\">\n",
       "      <th></th>\n",
       "      <th>user_id</th>\n",
       "      <th>first_name</th>\n",
       "      <th>last_name</th>\n",
       "      <th>age</th>\n",
       "      <th>city</th>\n",
       "      <th>reg_date</th>\n",
       "      <th>churn_date</th>\n",
       "    </tr>\n",
       "    <tr>\n",
       "      <th>plan</th>\n",
       "      <th></th>\n",
       "      <th></th>\n",
       "      <th></th>\n",
       "      <th></th>\n",
       "      <th></th>\n",
       "      <th></th>\n",
       "      <th></th>\n",
       "    </tr>\n",
       "  </thead>\n",
       "  <tbody>\n",
       "    <tr>\n",
       "      <td>surf</td>\n",
       "      <td>23</td>\n",
       "      <td>23</td>\n",
       "      <td>23</td>\n",
       "      <td>23</td>\n",
       "      <td>23</td>\n",
       "      <td>23</td>\n",
       "      <td>23</td>\n",
       "    </tr>\n",
       "    <tr>\n",
       "      <td>ultimate</td>\n",
       "      <td>11</td>\n",
       "      <td>11</td>\n",
       "      <td>11</td>\n",
       "      <td>11</td>\n",
       "      <td>11</td>\n",
       "      <td>11</td>\n",
       "      <td>11</td>\n",
       "    </tr>\n",
       "  </tbody>\n",
       "</table>\n",
       "</div>"
      ],
      "text/plain": [
       "          user_id  first_name  last_name  age  city  reg_date  churn_date\n",
       "plan                                                                     \n",
       "surf           23          23         23   23    23        23          23\n",
       "ultimate       11          11         11   11    11        11          11"
      ]
     },
     "execution_count": 32,
     "metadata": {},
     "output_type": "execute_result"
    }
   ],
   "source": [
    "df_users[df_users.churn_date.notnull()].groupby('plan').count()"
   ]
  },
  {
   "cell_type": "markdown",
   "metadata": {},
   "source": [
    "There are double the number of customers who left and were in the surf plan compared to the customers who were in the ultimate plan.I wonder why......"
   ]
  },
  {
   "cell_type": "markdown",
   "metadata": {},
   "source": [
    "**Zero's check:**"
   ]
  },
  {
   "cell_type": "code",
   "execution_count": 33,
   "metadata": {},
   "outputs": [
    {
     "name": "stdout",
     "output_type": "stream",
     "text": [
      "user_id 0\n",
      "first_name 0\n",
      "last_name 0\n",
      "age 0\n",
      "city 0\n",
      "reg_date 0\n",
      "plan 0\n",
      "churn_date 0\n"
     ]
    }
   ],
   "source": [
    "zeros(df_users)"
   ]
  },
  {
   "cell_type": "markdown",
   "metadata": {},
   "source": [
    "Everything seems to be fine! We will do some testing regarding the dates, and the plans and make sure everything makes sense!"
   ]
  },
  {
   "cell_type": "code",
   "execution_count": 34,
   "metadata": {},
   "outputs": [
    {
     "data": {
      "text/plain": [
       "array(['ultimate', 'surf'], dtype=object)"
      ]
     },
     "execution_count": 34,
     "metadata": {},
     "output_type": "execute_result"
    }
   ],
   "source": [
    "df_users['plan'].unique()"
   ]
  },
  {
   "cell_type": "markdown",
   "metadata": {},
   "source": [
    "No \"weird\" values on \"plan\" column."
   ]
  },
  {
   "cell_type": "markdown",
   "metadata": {},
   "source": [
    " [Checking the validity of dates will be after converting the type.](#check_date)"
   ]
  },
  {
   "cell_type": "markdown",
   "metadata": {},
   "source": [
    "**Check duplicated values:**"
   ]
  },
  {
   "cell_type": "code",
   "execution_count": 35,
   "metadata": {},
   "outputs": [
    {
     "name": "stdout",
     "output_type": "stream",
     "text": [
      "there is 0 duplicated values on df_users tale\n"
     ]
    }
   ],
   "source": [
    "print('there is',len(df_users[df_users.duplicated()]),'duplicated values on df_users tale')"
   ]
  },
  {
   "cell_type": "markdown",
   "metadata": {},
   "source": [
    "### Conclusions Step 1. <a class=\"anchor\" id=\"step1.1\"></a>\n",
    "According to the tests we did-\n",
    "1. Outliers check.\n",
    "2. Check NULL values\n",
    "3. Distribution test\n",
    "4. Duplicate test\n",
    "\n",
    "It can be concluded that the sample we have is correct and **the information in it is reliable**.\n",
    "\n",
    "We explained the problems we found in the call table and the internet table but despite the abnormal values around 0, we decided not to delete them from the data.\n",
    "\n",
    "It is possible to check the connection between the users in the browsing and the users in the messages (regardless of the plan)."
   ]
  },
  {
   "cell_type": "markdown",
   "metadata": {},
   "source": [
    "<a class=\"anchor\" id=\"step2.\"></a>\n",
    "## Step 2. Prepare the data"
   ]
  },
  {
   "cell_type": "markdown",
   "metadata": {},
   "source": [
    "**<span style=\"color:green\">We will prepare the data before approaching the analysis. We will convert types, create required data, and merge tables.</span>**\n",
    "\n",
    "\n"
   ]
  },
  {
   "cell_type": "markdown",
   "metadata": {},
   "source": [
    "**According to the conditions, we will round up the duration of the call minutes.**"
   ]
  },
  {
   "cell_type": "code",
   "execution_count": 36,
   "metadata": {},
   "outputs": [],
   "source": [
    "df_calls['duration'] = df_calls['duration'].apply(np.ceil)\n"
   ]
  },
  {
   "cell_type": "markdown",
   "metadata": {},
   "source": [
    "**As we noted earlier, it is now required to change all columns that display a date to a date type:**"
   ]
  },
  {
   "cell_type": "code",
   "execution_count": 37,
   "metadata": {},
   "outputs": [],
   "source": [
    "df_calls['call_date']               = pd.to_datetime(df_calls['call_date'], format='%Y-%m-%d')\n",
    "df_internet['session_date']         = pd.to_datetime(df_internet['session_date'], format='%Y-%m-%d')\n",
    "df_messages['message_date']         = pd.to_datetime(df_messages['message_date'], format='%Y-%m-%d')\n",
    "df_users[['reg_date','churn_date']] = df_users[['reg_date','churn_date']].apply(pd.to_datetime)\n"
   ]
  },
  {
   "cell_type": "markdown",
   "metadata": {},
   "source": [
    "**Check validility on the columns below**  <a class=\"anchor\" id=\"check_date\"></a>"
   ]
  },
  {
   "cell_type": "code",
   "execution_count": 38,
   "metadata": {},
   "outputs": [
    {
     "data": {
      "text/html": [
       "<div>\n",
       "<style scoped>\n",
       "    .dataframe tbody tr th:only-of-type {\n",
       "        vertical-align: middle;\n",
       "    }\n",
       "\n",
       "    .dataframe tbody tr th {\n",
       "        vertical-align: top;\n",
       "    }\n",
       "\n",
       "    .dataframe thead th {\n",
       "        text-align: right;\n",
       "    }\n",
       "</style>\n",
       "<table border=\"1\" class=\"dataframe\">\n",
       "  <thead>\n",
       "    <tr style=\"text-align: right;\">\n",
       "      <th></th>\n",
       "      <th>user_id</th>\n",
       "      <th>first_name</th>\n",
       "      <th>last_name</th>\n",
       "      <th>age</th>\n",
       "      <th>city</th>\n",
       "      <th>reg_date</th>\n",
       "      <th>plan</th>\n",
       "      <th>churn_date</th>\n",
       "    </tr>\n",
       "  </thead>\n",
       "  <tbody>\n",
       "  </tbody>\n",
       "</table>\n",
       "</div>"
      ],
      "text/plain": [
       "Empty DataFrame\n",
       "Columns: [user_id, first_name, last_name, age, city, reg_date, plan, churn_date]\n",
       "Index: []"
      ]
     },
     "execution_count": 38,
     "metadata": {},
     "output_type": "execute_result"
    }
   ],
   "source": [
    "df_users.query('churn_date < reg_date')"
   ]
  },
  {
   "cell_type": "markdown",
   "metadata": {},
   "source": [
    "It seems that there is no problem with the churn and reg dates, this is also perfect!"
   ]
  },
  {
   "cell_type": "markdown",
   "metadata": {},
   "source": [
    "**Now that we have converted the columns that contained dates, we need to add a new column \"month\" so that we can group the data by months:**"
   ]
  },
  {
   "cell_type": "code",
   "execution_count": 39,
   "metadata": {},
   "outputs": [],
   "source": [
    "df_calls['month']    = df_calls['call_date'].dt.month.astype('int')\n",
    "df_internet['month'] = df_internet['session_date'].dt.month.astype('int')\n",
    "df_messages['month'] = df_messages['message_date'].dt.month.astype('int')"
   ]
  },
  {
   "cell_type": "markdown",
   "metadata": {},
   "source": [
    "**We will group the data about the monthly usage of calls for each user-**"
   ]
  },
  {
   "cell_type": "code",
   "execution_count": 40,
   "metadata": {},
   "outputs": [
    {
     "data": {
      "text/html": [
       "<div>\n",
       "<style scoped>\n",
       "    .dataframe tbody tr th:only-of-type {\n",
       "        vertical-align: middle;\n",
       "    }\n",
       "\n",
       "    .dataframe tbody tr th {\n",
       "        vertical-align: top;\n",
       "    }\n",
       "\n",
       "    .dataframe thead th {\n",
       "        text-align: right;\n",
       "    }\n",
       "</style>\n",
       "<table border=\"1\" class=\"dataframe\">\n",
       "  <thead>\n",
       "    <tr style=\"text-align: right;\">\n",
       "      <th></th>\n",
       "      <th>user_id</th>\n",
       "      <th>month</th>\n",
       "      <th>total_calls</th>\n",
       "      <th>total_time_calls</th>\n",
       "    </tr>\n",
       "  </thead>\n",
       "  <tbody>\n",
       "    <tr>\n",
       "      <td>0</td>\n",
       "      <td>1000</td>\n",
       "      <td>12</td>\n",
       "      <td>16</td>\n",
       "      <td>124.0</td>\n",
       "    </tr>\n",
       "    <tr>\n",
       "      <td>1</td>\n",
       "      <td>1001</td>\n",
       "      <td>8</td>\n",
       "      <td>27</td>\n",
       "      <td>182.0</td>\n",
       "    </tr>\n",
       "    <tr>\n",
       "      <td>2</td>\n",
       "      <td>1001</td>\n",
       "      <td>9</td>\n",
       "      <td>49</td>\n",
       "      <td>315.0</td>\n",
       "    </tr>\n",
       "  </tbody>\n",
       "</table>\n",
       "</div>"
      ],
      "text/plain": [
       "   user_id  month  total_calls  total_time_calls\n",
       "0     1000     12           16             124.0\n",
       "1     1001      8           27             182.0\n",
       "2     1001      9           49             315.0"
      ]
     },
     "execution_count": 40,
     "metadata": {},
     "output_type": "execute_result"
    }
   ],
   "source": [
    "#df_calls.groupby('user_id')['call_month','duration']\n",
    " \n"
   ]
  },
  {
   "cell_type": "markdown",
   "metadata": {},
   "source": [
    "**We will group the data about the monthly usage of text messages for each user-**"
   ]
  },
  {
   "cell_type": "code",
   "execution_count": 41,
   "metadata": {},
   "outputs": [
    {
     "data": {
      "text/html": [
       "<div>\n",
       "<style scoped>\n",
       "    .dataframe tbody tr th:only-of-type {\n",
       "        vertical-align: middle;\n",
       "    }\n",
       "\n",
       "    .dataframe tbody tr th {\n",
       "        vertical-align: top;\n",
       "    }\n",
       "\n",
       "    .dataframe thead th {\n",
       "        text-align: right;\n",
       "    }\n",
       "</style>\n",
       "<table border=\"1\" class=\"dataframe\">\n",
       "  <thead>\n",
       "    <tr style=\"text-align: right;\">\n",
       "      <th></th>\n",
       "      <th>user_id</th>\n",
       "      <th>month</th>\n",
       "      <th>total_text</th>\n",
       "    </tr>\n",
       "  </thead>\n",
       "  <tbody>\n",
       "    <tr>\n",
       "      <td>0</td>\n",
       "      <td>1000</td>\n",
       "      <td>12</td>\n",
       "      <td>11</td>\n",
       "    </tr>\n",
       "    <tr>\n",
       "      <td>1</td>\n",
       "      <td>1001</td>\n",
       "      <td>8</td>\n",
       "      <td>30</td>\n",
       "    </tr>\n",
       "    <tr>\n",
       "      <td>2</td>\n",
       "      <td>1001</td>\n",
       "      <td>9</td>\n",
       "      <td>44</td>\n",
       "    </tr>\n",
       "  </tbody>\n",
       "</table>\n",
       "</div>"
      ],
      "text/plain": [
       "   user_id  month  total_text\n",
       "0     1000     12          11\n",
       "1     1001      8          30\n",
       "2     1001      9          44"
      ]
     },
     "execution_count": 41,
     "metadata": {},
     "output_type": "execute_result"
    }
   ],
   "source": [
    "user_monthly_messages = df_messages.pivot_table(index = ['user_id','month'], values =['id'], aggfunc =['count']).reset_index().sort_values(by=['user_id'])\n",
    "user_monthly_messages.columns = ['user_id' , 'month' , 'total_text']\n",
    "user_monthly_messages.head(3)"
   ]
  },
  {
   "cell_type": "markdown",
   "metadata": {},
   "source": [
    "**We will group the data about the monthly usage of mg for each user-**"
   ]
  },
  {
   "cell_type": "code",
   "execution_count": 42,
   "metadata": {},
   "outputs": [
    {
     "name": "stdout",
     "output_type": "stream",
     "text": [
      "<class 'pandas.core.frame.DataFrame'>\n",
      "Int64Index: 2277 entries, 0 to 2276\n",
      "Data columns (total 3 columns):\n",
      "user_id    2277 non-null int64\n",
      "month      2277 non-null int64\n",
      "mb_used    2277 non-null float64\n",
      "dtypes: float64(1), int64(2)\n",
      "memory usage: 71.2 KB\n"
     ]
    }
   ],
   "source": [
    "user_monthly_internet_mb = df_internet.pivot_table(index = ['user_id','month'], values =['mb_used'], aggfunc =['sum']).reset_index().sort_values(by=['user_id'])\n",
    "user_monthly_internet_mb.columns = ['user_id', 'month', 'mb_used']\n",
    "user_monthly_internet_mb.info()"
   ]
  },
  {
   "cell_type": "markdown",
   "metadata": {},
   "source": [
    "**I have created a function that round up the mg usage and turn it to gb usage so that we can add a column of monthly use of the gb.**"
   ]
  },
  {
   "cell_type": "code",
   "execution_count": 43,
   "metadata": {},
   "outputs": [],
   "source": [
    "def myround(x):\n",
    "    return (math.ceil(x/1024))\n"
   ]
  },
  {
   "cell_type": "code",
   "execution_count": 44,
   "metadata": {},
   "outputs": [
    {
     "data": {
      "text/html": [
       "<div>\n",
       "<style scoped>\n",
       "    .dataframe tbody tr th:only-of-type {\n",
       "        vertical-align: middle;\n",
       "    }\n",
       "\n",
       "    .dataframe tbody tr th {\n",
       "        vertical-align: top;\n",
       "    }\n",
       "\n",
       "    .dataframe thead th {\n",
       "        text-align: right;\n",
       "    }\n",
       "</style>\n",
       "<table border=\"1\" class=\"dataframe\">\n",
       "  <thead>\n",
       "    <tr style=\"text-align: right;\">\n",
       "      <th></th>\n",
       "      <th>user_id</th>\n",
       "      <th>month</th>\n",
       "      <th>mb_used</th>\n",
       "      <th>total_gb</th>\n",
       "    </tr>\n",
       "  </thead>\n",
       "  <tbody>\n",
       "    <tr>\n",
       "      <td>0</td>\n",
       "      <td>1000</td>\n",
       "      <td>12</td>\n",
       "      <td>1901.47</td>\n",
       "      <td>2</td>\n",
       "    </tr>\n",
       "    <tr>\n",
       "      <td>1</td>\n",
       "      <td>1001</td>\n",
       "      <td>8</td>\n",
       "      <td>6919.15</td>\n",
       "      <td>7</td>\n",
       "    </tr>\n",
       "    <tr>\n",
       "      <td>2</td>\n",
       "      <td>1001</td>\n",
       "      <td>9</td>\n",
       "      <td>13314.82</td>\n",
       "      <td>14</td>\n",
       "    </tr>\n",
       "  </tbody>\n",
       "</table>\n",
       "</div>"
      ],
      "text/plain": [
       "   user_id  month   mb_used  total_gb\n",
       "0     1000     12   1901.47         2\n",
       "1     1001      8   6919.15         7\n",
       "2     1001      9  13314.82        14"
      ]
     },
     "execution_count": 44,
     "metadata": {},
     "output_type": "execute_result"
    }
   ],
   "source": [
    "user_monthly_internet_mb['total_gb'] = user_monthly_internet_mb['mb_used'].apply(myround)\n",
    "user_monthly_internet_mb.head(3)"
   ]
  },
  {
   "cell_type": "markdown",
   "metadata": {},
   "source": [
    "**Now that we have prepared all the tables, we want to merge them into one table, based on the User and month columns.**"
   ]
  },
  {
   "cell_type": "code",
   "execution_count": 45,
   "metadata": {},
   "outputs": [],
   "source": [
    "data_frames = [user_monthly_calls, user_monthly_messages, user_monthly_internet_mb]\n",
    "df_merged = reduce(lambda  left,right: pd.merge(left,right,on=['user_id', 'month'],how='outer'), data_frames)\n",
    "df_merged.columns = ['user_id', 'month', 'total_calls' , 'total_time_calls','total_text', 'mb_used', 'total_gb']"
   ]
  },
  {
   "cell_type": "markdown",
   "metadata": {},
   "source": [
    "**We will check the merged table:**"
   ]
  },
  {
   "cell_type": "code",
   "execution_count": 46,
   "metadata": {},
   "outputs": [
    {
     "data": {
      "text/html": [
       "<div>\n",
       "<style scoped>\n",
       "    .dataframe tbody tr th:only-of-type {\n",
       "        vertical-align: middle;\n",
       "    }\n",
       "\n",
       "    .dataframe tbody tr th {\n",
       "        vertical-align: top;\n",
       "    }\n",
       "\n",
       "    .dataframe thead th {\n",
       "        text-align: right;\n",
       "    }\n",
       "</style>\n",
       "<table border=\"1\" class=\"dataframe\">\n",
       "  <thead>\n",
       "    <tr style=\"text-align: right;\">\n",
       "      <th></th>\n",
       "      <th>user_id</th>\n",
       "      <th>month</th>\n",
       "      <th>total_calls</th>\n",
       "      <th>total_time_calls</th>\n",
       "      <th>total_text</th>\n",
       "      <th>mb_used</th>\n",
       "      <th>total_gb</th>\n",
       "    </tr>\n",
       "  </thead>\n",
       "  <tbody>\n",
       "    <tr>\n",
       "      <td>0</td>\n",
       "      <td>1000</td>\n",
       "      <td>12</td>\n",
       "      <td>16.0</td>\n",
       "      <td>124.0</td>\n",
       "      <td>11.0</td>\n",
       "      <td>1901.47</td>\n",
       "      <td>2.0</td>\n",
       "    </tr>\n",
       "    <tr>\n",
       "      <td>1</td>\n",
       "      <td>1001</td>\n",
       "      <td>8</td>\n",
       "      <td>27.0</td>\n",
       "      <td>182.0</td>\n",
       "      <td>30.0</td>\n",
       "      <td>6919.15</td>\n",
       "      <td>7.0</td>\n",
       "    </tr>\n",
       "    <tr>\n",
       "      <td>2</td>\n",
       "      <td>1001</td>\n",
       "      <td>9</td>\n",
       "      <td>49.0</td>\n",
       "      <td>315.0</td>\n",
       "      <td>44.0</td>\n",
       "      <td>13314.82</td>\n",
       "      <td>14.0</td>\n",
       "    </tr>\n",
       "  </tbody>\n",
       "</table>\n",
       "</div>"
      ],
      "text/plain": [
       "   user_id  month  total_calls  total_time_calls  total_text   mb_used  \\\n",
       "0     1000     12         16.0             124.0        11.0   1901.47   \n",
       "1     1001      8         27.0             182.0        30.0   6919.15   \n",
       "2     1001      9         49.0             315.0        44.0  13314.82   \n",
       "\n",
       "   total_gb  \n",
       "0       2.0  \n",
       "1       7.0  \n",
       "2      14.0  "
      ]
     },
     "execution_count": 46,
     "metadata": {},
     "output_type": "execute_result"
    }
   ],
   "source": [
    "df_merged.head(3)"
   ]
  },
  {
   "cell_type": "code",
   "execution_count": 47,
   "metadata": {},
   "outputs": [
    {
     "data": {
      "text/html": [
       "<div>\n",
       "<style scoped>\n",
       "    .dataframe tbody tr th:only-of-type {\n",
       "        vertical-align: middle;\n",
       "    }\n",
       "\n",
       "    .dataframe tbody tr th {\n",
       "        vertical-align: top;\n",
       "    }\n",
       "\n",
       "    .dataframe thead th {\n",
       "        text-align: right;\n",
       "    }\n",
       "</style>\n",
       "<table border=\"1\" class=\"dataframe\">\n",
       "  <thead>\n",
       "    <tr style=\"text-align: right;\">\n",
       "      <th></th>\n",
       "      <th>user_id</th>\n",
       "      <th>month</th>\n",
       "      <th>total_calls</th>\n",
       "      <th>total_time_calls</th>\n",
       "      <th>total_text</th>\n",
       "      <th>mb_used</th>\n",
       "      <th>total_gb</th>\n",
       "    </tr>\n",
       "  </thead>\n",
       "  <tbody>\n",
       "    <tr>\n",
       "      <td>2290</td>\n",
       "      <td>1482</td>\n",
       "      <td>10</td>\n",
       "      <td>NaN</td>\n",
       "      <td>NaN</td>\n",
       "      <td>2.0</td>\n",
       "      <td>NaN</td>\n",
       "      <td>NaN</td>\n",
       "    </tr>\n",
       "    <tr>\n",
       "      <td>2291</td>\n",
       "      <td>1108</td>\n",
       "      <td>12</td>\n",
       "      <td>NaN</td>\n",
       "      <td>NaN</td>\n",
       "      <td>NaN</td>\n",
       "      <td>233.17</td>\n",
       "      <td>1.0</td>\n",
       "    </tr>\n",
       "    <tr>\n",
       "      <td>2292</td>\n",
       "      <td>1311</td>\n",
       "      <td>6</td>\n",
       "      <td>NaN</td>\n",
       "      <td>NaN</td>\n",
       "      <td>NaN</td>\n",
       "      <td>1498.83</td>\n",
       "      <td>2.0</td>\n",
       "    </tr>\n",
       "  </tbody>\n",
       "</table>\n",
       "</div>"
      ],
      "text/plain": [
       "      user_id  month  total_calls  total_time_calls  total_text  mb_used  \\\n",
       "2290     1482     10          NaN               NaN         2.0      NaN   \n",
       "2291     1108     12          NaN               NaN         NaN   233.17   \n",
       "2292     1311      6          NaN               NaN         NaN  1498.83   \n",
       "\n",
       "      total_gb  \n",
       "2290       NaN  \n",
       "2291       1.0  \n",
       "2292       2.0  "
      ]
     },
     "execution_count": 47,
     "metadata": {},
     "output_type": "execute_result"
    }
   ],
   "source": [
    "df_merged.tail(3)"
   ]
  },
  {
   "cell_type": "code",
   "execution_count": 48,
   "metadata": {},
   "outputs": [
    {
     "name": "stdout",
     "output_type": "stream",
     "text": [
      "<class 'pandas.core.frame.DataFrame'>\n",
      "Int64Index: 2293 entries, 0 to 2292\n",
      "Data columns (total 7 columns):\n",
      "user_id             2293 non-null int64\n",
      "month               2293 non-null int64\n",
      "total_calls         2258 non-null float64\n",
      "total_time_calls    2258 non-null float64\n",
      "total_text          1806 non-null float64\n",
      "mb_used             2277 non-null float64\n",
      "total_gb            2277 non-null float64\n",
      "dtypes: float64(5), int64(2)\n",
      "memory usage: 143.3 KB\n"
     ]
    }
   ],
   "source": [
    "df_merged.info()"
   ]
  },
  {
   "cell_type": "code",
   "execution_count": 49,
   "metadata": {},
   "outputs": [
    {
     "data": {
      "text/html": [
       "<div>\n",
       "<style scoped>\n",
       "    .dataframe tbody tr th:only-of-type {\n",
       "        vertical-align: middle;\n",
       "    }\n",
       "\n",
       "    .dataframe tbody tr th {\n",
       "        vertical-align: top;\n",
       "    }\n",
       "\n",
       "    .dataframe thead th {\n",
       "        text-align: right;\n",
       "    }\n",
       "</style>\n",
       "<table border=\"1\" class=\"dataframe\">\n",
       "  <thead>\n",
       "    <tr style=\"text-align: right;\">\n",
       "      <th></th>\n",
       "      <th>user_id</th>\n",
       "      <th>month</th>\n",
       "      <th>total_calls</th>\n",
       "      <th>total_time_calls</th>\n",
       "      <th>total_text</th>\n",
       "      <th>mb_used</th>\n",
       "      <th>total_gb</th>\n",
       "    </tr>\n",
       "  </thead>\n",
       "  <tbody>\n",
       "    <tr>\n",
       "      <td>count</td>\n",
       "      <td>2293.000000</td>\n",
       "      <td>2293.000000</td>\n",
       "      <td>2258.000000</td>\n",
       "      <td>2258.000000</td>\n",
       "      <td>1806.000000</td>\n",
       "      <td>2277.000000</td>\n",
       "      <td>2277.000000</td>\n",
       "    </tr>\n",
       "    <tr>\n",
       "      <td>mean</td>\n",
       "      <td>1246.075883</td>\n",
       "      <td>9.172700</td>\n",
       "      <td>60.998671</td>\n",
       "      <td>435.937555</td>\n",
       "      <td>42.110188</td>\n",
       "      <td>16882.197501</td>\n",
       "      <td>16.989021</td>\n",
       "    </tr>\n",
       "    <tr>\n",
       "      <td>std</td>\n",
       "      <td>143.051927</td>\n",
       "      <td>2.496386</td>\n",
       "      <td>31.770869</td>\n",
       "      <td>231.972343</td>\n",
       "      <td>33.122931</td>\n",
       "      <td>7869.784848</td>\n",
       "      <td>7.693683</td>\n",
       "    </tr>\n",
       "    <tr>\n",
       "      <td>min</td>\n",
       "      <td>1000.000000</td>\n",
       "      <td>1.000000</td>\n",
       "      <td>1.000000</td>\n",
       "      <td>0.000000</td>\n",
       "      <td>1.000000</td>\n",
       "      <td>92.310000</td>\n",
       "      <td>1.000000</td>\n",
       "    </tr>\n",
       "    <tr>\n",
       "      <td>25%</td>\n",
       "      <td>1122.000000</td>\n",
       "      <td>8.000000</td>\n",
       "      <td>39.000000</td>\n",
       "      <td>275.000000</td>\n",
       "      <td>17.000000</td>\n",
       "      <td>12347.720000</td>\n",
       "      <td>13.000000</td>\n",
       "    </tr>\n",
       "    <tr>\n",
       "      <td>50%</td>\n",
       "      <td>1245.000000</td>\n",
       "      <td>10.000000</td>\n",
       "      <td>60.000000</td>\n",
       "      <td>429.000000</td>\n",
       "      <td>34.000000</td>\n",
       "      <td>16873.740000</td>\n",
       "      <td>17.000000</td>\n",
       "    </tr>\n",
       "    <tr>\n",
       "      <td>75%</td>\n",
       "      <td>1368.000000</td>\n",
       "      <td>11.000000</td>\n",
       "      <td>80.000000</td>\n",
       "      <td>574.750000</td>\n",
       "      <td>59.000000</td>\n",
       "      <td>21041.520000</td>\n",
       "      <td>21.000000</td>\n",
       "    </tr>\n",
       "    <tr>\n",
       "      <td>max</td>\n",
       "      <td>1499.000000</td>\n",
       "      <td>12.000000</td>\n",
       "      <td>205.000000</td>\n",
       "      <td>1510.000000</td>\n",
       "      <td>266.000000</td>\n",
       "      <td>70931.590000</td>\n",
       "      <td>70.000000</td>\n",
       "    </tr>\n",
       "  </tbody>\n",
       "</table>\n",
       "</div>"
      ],
      "text/plain": [
       "           user_id        month  total_calls  total_time_calls   total_text  \\\n",
       "count  2293.000000  2293.000000  2258.000000       2258.000000  1806.000000   \n",
       "mean   1246.075883     9.172700    60.998671        435.937555    42.110188   \n",
       "std     143.051927     2.496386    31.770869        231.972343    33.122931   \n",
       "min    1000.000000     1.000000     1.000000          0.000000     1.000000   \n",
       "25%    1122.000000     8.000000    39.000000        275.000000    17.000000   \n",
       "50%    1245.000000    10.000000    60.000000        429.000000    34.000000   \n",
       "75%    1368.000000    11.000000    80.000000        574.750000    59.000000   \n",
       "max    1499.000000    12.000000   205.000000       1510.000000   266.000000   \n",
       "\n",
       "            mb_used     total_gb  \n",
       "count   2277.000000  2277.000000  \n",
       "mean   16882.197501    16.989021  \n",
       "std     7869.784848     7.693683  \n",
       "min       92.310000     1.000000  \n",
       "25%    12347.720000    13.000000  \n",
       "50%    16873.740000    17.000000  \n",
       "75%    21041.520000    21.000000  \n",
       "max    70931.590000    70.000000  "
      ]
     },
     "execution_count": 49,
     "metadata": {},
     "output_type": "execute_result"
    }
   ],
   "source": [
    "df_merged.describe()"
   ]
  },
  {
   "cell_type": "code",
   "execution_count": 50,
   "metadata": {},
   "outputs": [
    {
     "name": "stdout",
     "output_type": "stream",
     "text": [
      "user_id 0\n",
      "month 0\n",
      "total_calls 0\n",
      "total_time_calls 2 0.001\n",
      "total_text 0\n",
      "mb_used 0\n",
      "total_gb 0\n"
     ]
    }
   ],
   "source": [
    "zeros(df_merged)"
   ]
  },
  {
   "cell_type": "markdown",
   "metadata": {},
   "source": [
    "There are almost no 0 values. Which means that most users use the Megaline services every month."
   ]
  },
  {
   "cell_type": "markdown",
   "metadata": {},
   "source": [
    "**Check duplicated values:**"
   ]
  },
  {
   "cell_type": "code",
   "execution_count": 51,
   "metadata": {},
   "outputs": [
    {
     "name": "stdout",
     "output_type": "stream",
     "text": [
      "there is 0 duplicated values on df_merged tale\n"
     ]
    }
   ],
   "source": [
    "print('there is',len(df_merged[df_merged.duplicated()]),'duplicated values on df_merged tale')"
   ]
  },
  {
   "cell_type": "code",
   "execution_count": 52,
   "metadata": {},
   "outputs": [
    {
     "data": {
      "text/plain": [
       "user_id             0.000000\n",
       "month               0.000000\n",
       "total_calls         0.015264\n",
       "total_time_calls    0.015264\n",
       "total_text          0.212386\n",
       "mb_used             0.006978\n",
       "total_gb            0.006978\n",
       "dtype: float64"
      ]
     },
     "execution_count": 52,
     "metadata": {},
     "output_type": "execute_result"
    }
   ],
   "source": [
    "df_merged.isnull().mean()"
   ]
  },
  {
   "cell_type": "markdown",
   "metadata": {},
   "source": [
    "We see that the total_text column contains about **20% NULL** values, which is a strange figure since in the organic table of messages there are no NULL values at all!\n",
    "\n",
    "It is possible that since we have grouped by months there are whole months in which the users did not use the messages at all.\n",
    "\n",
    "We would like (again) to check  the correlation between the messages and the other relevant values.\n",
    "\n",
    "**We will activate the coor function now:**\n"
   ]
  },
  {
   "cell_type": "code",
   "execution_count": 53,
   "metadata": {},
   "outputs": [
    {
     "name": "stdout",
     "output_type": "stream",
     "text": [
      "total_time_calls    0.281633\n",
      "total_text          1.000000\n",
      "total_gb            0.320465\n",
      "Name: total_text, dtype: float64\n"
     ]
    }
   ],
   "source": [
    "relevent_data = df_merged[['total_time_calls','total_text','total_gb']]\n",
    "print(relevent_data.corr()['total_text'])"
   ]
  },
  {
   "cell_type": "markdown",
   "metadata": {},
   "source": [
    "Our hypothesis has fallen .... there does not seem to be a correlation between the use of messages and the use of another service. \n",
    "\n",
    "Maybe it depends on the plan? We will check this later."
   ]
  },
  {
   "cell_type": "markdown",
   "metadata": {},
   "source": [
    "**We will now merge the table with the calculated data (df_merge) into the table with the user details.**"
   ]
  },
  {
   "cell_type": "code",
   "execution_count": 54,
   "metadata": {},
   "outputs": [],
   "source": [
    "df_total = pd.merge(right = df_merged , \n",
    "                left = df_users, how='outer',on=['user_id'])"
   ]
  },
  {
   "cell_type": "code",
   "execution_count": 55,
   "metadata": {
    "scrolled": true
   },
   "outputs": [
    {
     "data": {
      "text/html": [
       "<div>\n",
       "<style scoped>\n",
       "    .dataframe tbody tr th:only-of-type {\n",
       "        vertical-align: middle;\n",
       "    }\n",
       "\n",
       "    .dataframe tbody tr th {\n",
       "        vertical-align: top;\n",
       "    }\n",
       "\n",
       "    .dataframe thead th {\n",
       "        text-align: right;\n",
       "    }\n",
       "</style>\n",
       "<table border=\"1\" class=\"dataframe\">\n",
       "  <thead>\n",
       "    <tr style=\"text-align: right;\">\n",
       "      <th></th>\n",
       "      <th>user_id</th>\n",
       "      <th>first_name</th>\n",
       "      <th>last_name</th>\n",
       "      <th>age</th>\n",
       "      <th>city</th>\n",
       "      <th>reg_date</th>\n",
       "      <th>plan</th>\n",
       "      <th>churn_date</th>\n",
       "      <th>month</th>\n",
       "      <th>total_calls</th>\n",
       "      <th>total_time_calls</th>\n",
       "      <th>total_text</th>\n",
       "      <th>mb_used</th>\n",
       "      <th>total_gb</th>\n",
       "    </tr>\n",
       "  </thead>\n",
       "  <tbody>\n",
       "    <tr>\n",
       "      <td>0</td>\n",
       "      <td>1000</td>\n",
       "      <td>Anamaria</td>\n",
       "      <td>Bauer</td>\n",
       "      <td>45</td>\n",
       "      <td>Atlanta-Sandy Springs-Roswell, GA MSA</td>\n",
       "      <td>2018-12-24</td>\n",
       "      <td>ultimate</td>\n",
       "      <td>NaT</td>\n",
       "      <td>12.0</td>\n",
       "      <td>16.0</td>\n",
       "      <td>124.0</td>\n",
       "      <td>11.0</td>\n",
       "      <td>1901.47</td>\n",
       "      <td>2.0</td>\n",
       "    </tr>\n",
       "    <tr>\n",
       "      <td>1</td>\n",
       "      <td>1001</td>\n",
       "      <td>Mickey</td>\n",
       "      <td>Wilkerson</td>\n",
       "      <td>28</td>\n",
       "      <td>Seattle-Tacoma-Bellevue, WA MSA</td>\n",
       "      <td>2018-08-13</td>\n",
       "      <td>surf</td>\n",
       "      <td>NaT</td>\n",
       "      <td>8.0</td>\n",
       "      <td>27.0</td>\n",
       "      <td>182.0</td>\n",
       "      <td>30.0</td>\n",
       "      <td>6919.15</td>\n",
       "      <td>7.0</td>\n",
       "    </tr>\n",
       "    <tr>\n",
       "      <td>2</td>\n",
       "      <td>1001</td>\n",
       "      <td>Mickey</td>\n",
       "      <td>Wilkerson</td>\n",
       "      <td>28</td>\n",
       "      <td>Seattle-Tacoma-Bellevue, WA MSA</td>\n",
       "      <td>2018-08-13</td>\n",
       "      <td>surf</td>\n",
       "      <td>NaT</td>\n",
       "      <td>9.0</td>\n",
       "      <td>49.0</td>\n",
       "      <td>315.0</td>\n",
       "      <td>44.0</td>\n",
       "      <td>13314.82</td>\n",
       "      <td>14.0</td>\n",
       "    </tr>\n",
       "  </tbody>\n",
       "</table>\n",
       "</div>"
      ],
      "text/plain": [
       "   user_id first_name  last_name  age                                   city  \\\n",
       "0     1000   Anamaria      Bauer   45  Atlanta-Sandy Springs-Roswell, GA MSA   \n",
       "1     1001     Mickey  Wilkerson   28        Seattle-Tacoma-Bellevue, WA MSA   \n",
       "2     1001     Mickey  Wilkerson   28        Seattle-Tacoma-Bellevue, WA MSA   \n",
       "\n",
       "    reg_date      plan churn_date  month  total_calls  total_time_calls  \\\n",
       "0 2018-12-24  ultimate        NaT   12.0         16.0             124.0   \n",
       "1 2018-08-13      surf        NaT    8.0         27.0             182.0   \n",
       "2 2018-08-13      surf        NaT    9.0         49.0             315.0   \n",
       "\n",
       "   total_text   mb_used  total_gb  \n",
       "0        11.0   1901.47       2.0  \n",
       "1        30.0   6919.15       7.0  \n",
       "2        44.0  13314.82      14.0  "
      ]
     },
     "execution_count": 55,
     "metadata": {},
     "output_type": "execute_result"
    }
   ],
   "source": [
    "df_total.head(3)"
   ]
  },
  {
   "cell_type": "code",
   "execution_count": 56,
   "metadata": {},
   "outputs": [
    {
     "data": {
      "text/html": [
       "<div>\n",
       "<style scoped>\n",
       "    .dataframe tbody tr th:only-of-type {\n",
       "        vertical-align: middle;\n",
       "    }\n",
       "\n",
       "    .dataframe tbody tr th {\n",
       "        vertical-align: top;\n",
       "    }\n",
       "\n",
       "    .dataframe thead th {\n",
       "        text-align: right;\n",
       "    }\n",
       "</style>\n",
       "<table border=\"1\" class=\"dataframe\">\n",
       "  <thead>\n",
       "    <tr style=\"text-align: right;\">\n",
       "      <th></th>\n",
       "      <th>user_id</th>\n",
       "      <th>first_name</th>\n",
       "      <th>last_name</th>\n",
       "      <th>age</th>\n",
       "      <th>city</th>\n",
       "      <th>reg_date</th>\n",
       "      <th>plan</th>\n",
       "      <th>churn_date</th>\n",
       "      <th>month</th>\n",
       "      <th>total_calls</th>\n",
       "      <th>total_time_calls</th>\n",
       "      <th>total_text</th>\n",
       "      <th>mb_used</th>\n",
       "      <th>total_gb</th>\n",
       "    </tr>\n",
       "  </thead>\n",
       "  <tbody>\n",
       "    <tr>\n",
       "      <td>2300</td>\n",
       "      <td>1499</td>\n",
       "      <td>Shena</td>\n",
       "      <td>Dickson</td>\n",
       "      <td>37</td>\n",
       "      <td>Orlando-Kissimmee-Sanford, FL MSA</td>\n",
       "      <td>2018-05-06</td>\n",
       "      <td>surf</td>\n",
       "      <td>NaT</td>\n",
       "      <td>11.0</td>\n",
       "      <td>45.0</td>\n",
       "      <td>308.0</td>\n",
       "      <td>NaN</td>\n",
       "      <td>16813.83</td>\n",
       "      <td>17.0</td>\n",
       "    </tr>\n",
       "    <tr>\n",
       "      <td>2301</td>\n",
       "      <td>1499</td>\n",
       "      <td>Shena</td>\n",
       "      <td>Dickson</td>\n",
       "      <td>37</td>\n",
       "      <td>Orlando-Kissimmee-Sanford, FL MSA</td>\n",
       "      <td>2018-05-06</td>\n",
       "      <td>surf</td>\n",
       "      <td>NaT</td>\n",
       "      <td>9.0</td>\n",
       "      <td>41.0</td>\n",
       "      <td>346.0</td>\n",
       "      <td>NaN</td>\n",
       "      <td>12984.76</td>\n",
       "      <td>13.0</td>\n",
       "    </tr>\n",
       "    <tr>\n",
       "      <td>2302</td>\n",
       "      <td>1499</td>\n",
       "      <td>Shena</td>\n",
       "      <td>Dickson</td>\n",
       "      <td>37</td>\n",
       "      <td>Orlando-Kissimmee-Sanford, FL MSA</td>\n",
       "      <td>2018-05-06</td>\n",
       "      <td>surf</td>\n",
       "      <td>NaT</td>\n",
       "      <td>12.0</td>\n",
       "      <td>65.0</td>\n",
       "      <td>496.0</td>\n",
       "      <td>NaN</td>\n",
       "      <td>22059.21</td>\n",
       "      <td>22.0</td>\n",
       "    </tr>\n",
       "  </tbody>\n",
       "</table>\n",
       "</div>"
      ],
      "text/plain": [
       "      user_id first_name last_name  age                               city  \\\n",
       "2300     1499      Shena   Dickson   37  Orlando-Kissimmee-Sanford, FL MSA   \n",
       "2301     1499      Shena   Dickson   37  Orlando-Kissimmee-Sanford, FL MSA   \n",
       "2302     1499      Shena   Dickson   37  Orlando-Kissimmee-Sanford, FL MSA   \n",
       "\n",
       "       reg_date  plan churn_date  month  total_calls  total_time_calls  \\\n",
       "2300 2018-05-06  surf        NaT   11.0         45.0             308.0   \n",
       "2301 2018-05-06  surf        NaT    9.0         41.0             346.0   \n",
       "2302 2018-05-06  surf        NaT   12.0         65.0             496.0   \n",
       "\n",
       "      total_text   mb_used  total_gb  \n",
       "2300         NaN  16813.83      17.0  \n",
       "2301         NaN  12984.76      13.0  \n",
       "2302         NaN  22059.21      22.0  "
      ]
     },
     "execution_count": 56,
     "metadata": {},
     "output_type": "execute_result"
    }
   ],
   "source": [
    "df_total.tail(3)"
   ]
  },
  {
   "cell_type": "code",
   "execution_count": 57,
   "metadata": {},
   "outputs": [
    {
     "name": "stdout",
     "output_type": "stream",
     "text": [
      "<class 'pandas.core.frame.DataFrame'>\n",
      "Int64Index: 2303 entries, 0 to 2302\n",
      "Data columns (total 14 columns):\n",
      "user_id             2303 non-null int64\n",
      "first_name          2303 non-null object\n",
      "last_name           2303 non-null object\n",
      "age                 2303 non-null int64\n",
      "city                2303 non-null object\n",
      "reg_date            2303 non-null datetime64[ns]\n",
      "plan                2303 non-null object\n",
      "churn_date          160 non-null datetime64[ns]\n",
      "month               2293 non-null float64\n",
      "total_calls         2258 non-null float64\n",
      "total_time_calls    2258 non-null float64\n",
      "total_text          1806 non-null float64\n",
      "mb_used             2277 non-null float64\n",
      "total_gb            2277 non-null float64\n",
      "dtypes: datetime64[ns](2), float64(6), int64(2), object(4)\n",
      "memory usage: 269.9+ KB\n"
     ]
    }
   ],
   "source": [
    "df_total.info()"
   ]
  },
  {
   "cell_type": "markdown",
   "metadata": {},
   "source": [
    "Same numbers in here as well.\n",
    "\n",
    "Since I trust there is no error in the data and i believe that where there is null it means that no use has been made of the service.\n",
    "\n",
    "**I will fill the null values with 0 in the relevant columns:**"
   ]
  },
  {
   "cell_type": "code",
   "execution_count": 58,
   "metadata": {},
   "outputs": [],
   "source": [
    "df_total['total_calls'].fillna(0, inplace = True)\n",
    "df_total['total_time_calls'].fillna(0, inplace = True)\n",
    "df_total['total_text'].fillna(0, inplace = True)\n",
    "df_total['total_gb'].fillna(0, inplace = True)"
   ]
  },
  {
   "cell_type": "code",
   "execution_count": 59,
   "metadata": {},
   "outputs": [
    {
     "name": "stdout",
     "output_type": "stream",
     "text": [
      "<class 'pandas.core.frame.DataFrame'>\n",
      "Int64Index: 2303 entries, 0 to 2302\n",
      "Data columns (total 14 columns):\n",
      "user_id             2303 non-null int64\n",
      "first_name          2303 non-null object\n",
      "last_name           2303 non-null object\n",
      "age                 2303 non-null int64\n",
      "city                2303 non-null object\n",
      "reg_date            2303 non-null datetime64[ns]\n",
      "plan                2303 non-null object\n",
      "churn_date          160 non-null datetime64[ns]\n",
      "month               2293 non-null float64\n",
      "total_calls         2303 non-null float64\n",
      "total_time_calls    2303 non-null float64\n",
      "total_text          2303 non-null float64\n",
      "mb_used             2277 non-null float64\n",
      "total_gb            2303 non-null float64\n",
      "dtypes: datetime64[ns](2), float64(6), int64(2), object(4)\n",
      "memory usage: 269.9+ KB\n"
     ]
    }
   ],
   "source": [
    "df_total.info()"
   ]
  },
  {
   "cell_type": "code",
   "execution_count": 60,
   "metadata": {},
   "outputs": [
    {
     "name": "stdout",
     "output_type": "stream",
     "text": [
      "there is 0 duplicated values on df_total tale\n"
     ]
    }
   ],
   "source": [
    "print('there is',len(df_total[df_total.duplicated()]),'duplicated values on df_total tale')"
   ]
  },
  {
   "cell_type": "markdown",
   "metadata": {},
   "source": [
    "**Now all we have left to do to continue testing the hypotheses is calculate the profit.**\n",
    "\n",
    "**And for that I have built a function that will do this:**"
   ]
  },
  {
   "cell_type": "code",
   "execution_count": 61,
   "metadata": {},
   "outputs": [],
   "source": [
    "def profit (data):\n",
    "    pack       = data['plan']\n",
    "    call_total = data['total_time_calls']\n",
    "    text_toatl = data['total_text']\n",
    "    gb_total   = data['total_gb']\n",
    "    pack_cost  = 0\n",
    "    pack_call  = 0\n",
    "    pack_text  = 0\n",
    "    pack_mb    = 0\n",
    "    over_call  = 0\n",
    "    over_mb    = 0\n",
    "    over_text  = 0\n",
    "    \n",
    "    if pack == 'surf':\n",
    "        pack_cost = 20\n",
    "        pack_call = 500\n",
    "        pack_text = 50\n",
    "        pack_gb   = 15\n",
    "        over_call = 0\n",
    "        over_gb   = 0\n",
    "        over_text = 0\n",
    "\n",
    "        if call_total > pack_call:\n",
    "            over_call = (call_total  - pack_call)\n",
    "        if text_toatl > pack_text:\n",
    "            over_text = (text_toatl  - pack_text)\n",
    "        if gb_total   > pack_gb:\n",
    "            over_gb   = (gb_total    - pack_gb)\n",
    "            \n",
    "        total_profit = pack_cost + (over_call*0.03) + (over_text*0.03) +(over_gb*10)\n",
    "    elif pack == 'ultimate':\n",
    "        pack_cost = 70\n",
    "        pack_call = 3000\n",
    "        pack_text = 1000\n",
    "        pack_gb   = 30\n",
    "        over_call = 0\n",
    "        over_gb   = 0\n",
    "        over_text = 0\n",
    "\n",
    "        if call_total > pack_call:\n",
    "            over_call = (call_total  - pack_call)\n",
    "        if text_toatl > pack_text:\n",
    "            over_text = (text_toatl  - pack_text)\n",
    "        if gb_total   > pack_gb:\n",
    "            over_gb   = (gb_total    - pack_gb)\n",
    "        total_profit = pack_cost + (over_call*0.01) + (over_text*0.01) +(over_gb*7)\n",
    "    \n",
    "    return total_profit"
   ]
  },
  {
   "cell_type": "markdown",
   "metadata": {},
   "source": [
    "**We will now run the function and add the \"profit\" column**"
   ]
  },
  {
   "cell_type": "code",
   "execution_count": 62,
   "metadata": {},
   "outputs": [],
   "source": [
    "df_total['profit'] = df_total.apply(profit ,axis=1)"
   ]
  },
  {
   "cell_type": "code",
   "execution_count": 63,
   "metadata": {},
   "outputs": [
    {
     "data": {
      "text/html": [
       "<div>\n",
       "<style scoped>\n",
       "    .dataframe tbody tr th:only-of-type {\n",
       "        vertical-align: middle;\n",
       "    }\n",
       "\n",
       "    .dataframe tbody tr th {\n",
       "        vertical-align: top;\n",
       "    }\n",
       "\n",
       "    .dataframe thead th {\n",
       "        text-align: right;\n",
       "    }\n",
       "</style>\n",
       "<table border=\"1\" class=\"dataframe\">\n",
       "  <thead>\n",
       "    <tr style=\"text-align: right;\">\n",
       "      <th></th>\n",
       "      <th>user_id</th>\n",
       "      <th>first_name</th>\n",
       "      <th>last_name</th>\n",
       "      <th>age</th>\n",
       "      <th>city</th>\n",
       "      <th>reg_date</th>\n",
       "      <th>plan</th>\n",
       "      <th>churn_date</th>\n",
       "      <th>month</th>\n",
       "      <th>total_calls</th>\n",
       "      <th>total_time_calls</th>\n",
       "      <th>total_text</th>\n",
       "      <th>mb_used</th>\n",
       "      <th>total_gb</th>\n",
       "      <th>profit</th>\n",
       "    </tr>\n",
       "  </thead>\n",
       "  <tbody>\n",
       "    <tr>\n",
       "      <td>0</td>\n",
       "      <td>1000</td>\n",
       "      <td>Anamaria</td>\n",
       "      <td>Bauer</td>\n",
       "      <td>45</td>\n",
       "      <td>Atlanta-Sandy Springs-Roswell, GA MSA</td>\n",
       "      <td>2018-12-24</td>\n",
       "      <td>ultimate</td>\n",
       "      <td>NaT</td>\n",
       "      <td>12.0</td>\n",
       "      <td>16.0</td>\n",
       "      <td>124.0</td>\n",
       "      <td>11.0</td>\n",
       "      <td>1901.47</td>\n",
       "      <td>2.0</td>\n",
       "      <td>70.0</td>\n",
       "    </tr>\n",
       "    <tr>\n",
       "      <td>1</td>\n",
       "      <td>1001</td>\n",
       "      <td>Mickey</td>\n",
       "      <td>Wilkerson</td>\n",
       "      <td>28</td>\n",
       "      <td>Seattle-Tacoma-Bellevue, WA MSA</td>\n",
       "      <td>2018-08-13</td>\n",
       "      <td>surf</td>\n",
       "      <td>NaT</td>\n",
       "      <td>8.0</td>\n",
       "      <td>27.0</td>\n",
       "      <td>182.0</td>\n",
       "      <td>30.0</td>\n",
       "      <td>6919.15</td>\n",
       "      <td>7.0</td>\n",
       "      <td>20.0</td>\n",
       "    </tr>\n",
       "    <tr>\n",
       "      <td>2</td>\n",
       "      <td>1001</td>\n",
       "      <td>Mickey</td>\n",
       "      <td>Wilkerson</td>\n",
       "      <td>28</td>\n",
       "      <td>Seattle-Tacoma-Bellevue, WA MSA</td>\n",
       "      <td>2018-08-13</td>\n",
       "      <td>surf</td>\n",
       "      <td>NaT</td>\n",
       "      <td>9.0</td>\n",
       "      <td>49.0</td>\n",
       "      <td>315.0</td>\n",
       "      <td>44.0</td>\n",
       "      <td>13314.82</td>\n",
       "      <td>14.0</td>\n",
       "      <td>20.0</td>\n",
       "    </tr>\n",
       "  </tbody>\n",
       "</table>\n",
       "</div>"
      ],
      "text/plain": [
       "   user_id first_name  last_name  age                                   city  \\\n",
       "0     1000   Anamaria      Bauer   45  Atlanta-Sandy Springs-Roswell, GA MSA   \n",
       "1     1001     Mickey  Wilkerson   28        Seattle-Tacoma-Bellevue, WA MSA   \n",
       "2     1001     Mickey  Wilkerson   28        Seattle-Tacoma-Bellevue, WA MSA   \n",
       "\n",
       "    reg_date      plan churn_date  month  total_calls  total_time_calls  \\\n",
       "0 2018-12-24  ultimate        NaT   12.0         16.0             124.0   \n",
       "1 2018-08-13      surf        NaT    8.0         27.0             182.0   \n",
       "2 2018-08-13      surf        NaT    9.0         49.0             315.0   \n",
       "\n",
       "   total_text   mb_used  total_gb  profit  \n",
       "0        11.0   1901.47       2.0    70.0  \n",
       "1        30.0   6919.15       7.0    20.0  \n",
       "2        44.0  13314.82      14.0    20.0  "
      ]
     },
     "execution_count": 63,
     "metadata": {},
     "output_type": "execute_result"
    }
   ],
   "source": [
    "df_total.head(3)"
   ]
  },
  {
   "cell_type": "code",
   "execution_count": 64,
   "metadata": {},
   "outputs": [
    {
     "name": "stdout",
     "output_type": "stream",
     "text": [
      "<class 'pandas.core.frame.DataFrame'>\n",
      "Int64Index: 2303 entries, 0 to 2302\n",
      "Data columns (total 15 columns):\n",
      "user_id             2303 non-null int64\n",
      "first_name          2303 non-null object\n",
      "last_name           2303 non-null object\n",
      "age                 2303 non-null int64\n",
      "city                2303 non-null object\n",
      "reg_date            2303 non-null datetime64[ns]\n",
      "plan                2303 non-null object\n",
      "churn_date          160 non-null datetime64[ns]\n",
      "month               2293 non-null float64\n",
      "total_calls         2303 non-null float64\n",
      "total_time_calls    2303 non-null float64\n",
      "total_text          2303 non-null float64\n",
      "mb_used             2277 non-null float64\n",
      "total_gb            2303 non-null float64\n",
      "profit              2303 non-null float64\n",
      "dtypes: datetime64[ns](2), float64(7), int64(2), object(4)\n",
      "memory usage: 287.9+ KB\n"
     ]
    }
   ],
   "source": [
    "df_total.info()"
   ]
  },
  {
   "cell_type": "code",
   "execution_count": 65,
   "metadata": {},
   "outputs": [
    {
     "data": {
      "text/plain": [
       "count    2303.000000\n",
       "mean       64.245410\n",
       "std        46.579107\n",
       "min        20.000000\n",
       "25%        23.390000\n",
       "50%        70.000000\n",
       "75%        70.000000\n",
       "max       590.370000\n",
       "Name: profit, dtype: float64"
      ]
     },
     "execution_count": 65,
     "metadata": {},
     "output_type": "execute_result"
    }
   ],
   "source": [
    "df_total.profit.describe()"
   ]
  },
  {
   "cell_type": "code",
   "execution_count": 66,
   "metadata": {},
   "outputs": [
    {
     "data": {
      "text/plain": [
       "70.0    719\n",
       "20.0    437\n",
       "50.0     49\n",
       "40.0     47\n",
       "80.0     46\n",
       "Name: profit, dtype: int64"
      ]
     },
     "execution_count": 66,
     "metadata": {},
     "output_type": "execute_result"
    }
   ],
   "source": [
    "df_total.profit.value_counts().head(5)"
   ]
  },
  {
   "cell_type": "code",
   "execution_count": 67,
   "metadata": {},
   "outputs": [
    {
     "data": {
      "image/png": "[encoded data removed]",
      "text/plain": [
       "<Figure size 360x360 with 1 Axes>"
      ]
     },
     "metadata": {
      "needs_background": "light"
     },
     "output_type": "display_data"
    }
   ],
   "source": [
    "plt.figure(figsize=(5,5))\n",
    "plt.title('Profit', size = 20, color = 'skyblue')\n",
    "plt.xlabel('Profit value',size =15)\n",
    "plt.ylabel('Frequency',size = 15)\n",
    "plt.hist(df_total.profit,bins=30, color = 'skyblue')\n",
    "plt.grid(color='white', linestyle='-.', linewidth=0.9)\n",
    "ax = plt.gca()\n",
    "ax.set_facecolor('lavender')\n",
    "plt.show();"
   ]
  },
  {
   "cell_type": "markdown",
   "metadata": {},
   "source": [
    "### Conclusion on profit column:\n",
    "##### It can certainly be seen that the data is distributed normally, and there is a peak near 20 and anoher on  70. That is of course the prices of the pre-paid plans  that offered.\n",
    "\n",
    "_We will use  the \"three-sigma\" rule.:_"
   ]
  },
  {
   "cell_type": "code",
   "execution_count": 68,
   "metadata": {},
   "outputs": [
    {
     "data": {
      "text/plain": [
       "0.98"
      ]
     },
     "execution_count": 68,
     "metadata": {},
     "output_type": "execute_result"
    }
   ],
   "source": [
    "x1 = df_total.profit.mean()-3*np.std(df_total.profit)\n",
    "x2 = df_total.profit.mean()+3*np.std(df_total.profit)\n",
    "filter_total = df_total[(df_total['profit']<x2) & (df_total['profit']>x1) ]\n",
    "round(len(filter_total)/len(df_total),2)"
   ]
  },
  {
   "cell_type": "markdown",
   "metadata": {},
   "source": [
    "#### Conclusion Examining the three sigmas:\n",
    "\n",
    "While not 100% is within +-3sigma but 98-99 percent it is excellent!\n",
    "\n",
    "It can be concluded that our suspicious values  **not an outliers**."
   ]
  },
  {
   "cell_type": "markdown",
   "metadata": {},
   "source": [
    "<a class=\"anchor\" id=\"step2.2\"></a> \n",
    "### Conclusions Step 2.\n",
    "Based on what we did we can say this:\n",
    "\n",
    "1. The merges we created between the tables created us with additional null values that we did not have in the original tables.\n",
    "2. It can be said that the monthly profit from each customer regardless of the plan, is distributed normally.\n",
    "3. Just few users do not use the service.\n",
    "\n",
    "**Now on the basis of the prepared table it is possible to further examine the behavior of customers.**"
   ]
  },
  {
   "cell_type": "markdown",
   "metadata": {},
   "source": [
    "## Step 3. Analyze the data<a class=\"anchor\" id=\"step3.\"></a>"
   ]
  },
  {
   "cell_type": "markdown",
   "metadata": {},
   "source": [
    "**<span style=\"color:green\">In this step we will describe the customers' behavior and find the minutes, texts, volume of data of the users of each plan per month. We'll also calculate the mean, dispersion, and standard deviation. Eventually we'll plot histograms and describe the distributions.</span>**\n",
    "\n",
    "\n"
   ]
  },
  {
   "cell_type": "markdown",
   "metadata": {},
   "source": [
    "**The merged table already has a \"month\" column. Now in order to examine the information according to the plan, we want to split the data into two datasets divided according to  plan column.**"
   ]
  },
  {
   "cell_type": "code",
   "execution_count": 69,
   "metadata": {},
   "outputs": [
    {
     "name": "stdout",
     "output_type": "stream",
     "text": [
      "<class 'pandas.core.frame.DataFrame'>\n",
      "Int64Index: 1579 entries, 1 to 2302\n",
      "Data columns (total 15 columns):\n",
      "user_id             1579 non-null int64\n",
      "first_name          1579 non-null object\n",
      "last_name           1579 non-null object\n",
      "age                 1579 non-null int64\n",
      "city                1579 non-null object\n",
      "reg_date            1579 non-null datetime64[ns]\n",
      "plan                1579 non-null object\n",
      "churn_date          107 non-null datetime64[ns]\n",
      "month               1573 non-null float64\n",
      "total_calls         1579 non-null float64\n",
      "total_time_calls    1579 non-null float64\n",
      "total_text          1579 non-null float64\n",
      "mb_used             1558 non-null float64\n",
      "total_gb            1579 non-null float64\n",
      "profit              1579 non-null float64\n",
      "dtypes: datetime64[ns](2), float64(7), int64(2), object(4)\n",
      "memory usage: 197.4+ KB\n",
      "<class 'pandas.core.frame.DataFrame'>\n",
      "Int64Index: 724 entries, 0 to 2287\n",
      "Data columns (total 15 columns):\n",
      "user_id             724 non-null int64\n",
      "first_name          724 non-null object\n",
      "last_name           724 non-null object\n",
      "age                 724 non-null int64\n",
      "city                724 non-null object\n",
      "reg_date            724 non-null datetime64[ns]\n",
      "plan                724 non-null object\n",
      "churn_date          53 non-null datetime64[ns]\n",
      "month               720 non-null float64\n",
      "total_calls         724 non-null float64\n",
      "total_time_calls    724 non-null float64\n",
      "total_text          724 non-null float64\n",
      "mb_used             719 non-null float64\n",
      "total_gb            724 non-null float64\n",
      "profit              724 non-null float64\n",
      "dtypes: datetime64[ns](2), float64(7), int64(2), object(4)\n",
      "memory usage: 90.5+ KB\n",
      "None None\n"
     ]
    }
   ],
   "source": [
    "df_surf     = df_total[df_total['plan'] == 'surf']\n",
    "df_ultimate = df_total[df_total['plan'] == 'ultimate']\n",
    "print(df_surf.info(),df_ultimate.info())\n"
   ]
  },
  {
   "cell_type": "code",
   "execution_count": 70,
   "metadata": {},
   "outputs": [
    {
     "name": "stdout",
     "output_type": "stream",
     "text": [
      "The data ratio is 0.46\n"
     ]
    }
   ],
   "source": [
    "print(\"The data ratio is {:.2}\".format(len(df_ultimate)/len(df_surf)))"
   ]
  },
  {
   "cell_type": "markdown",
   "metadata": {},
   "source": [
    "**The data df_surf contains almost twice the values of the data df_ultimate.**"
   ]
  },
  {
   "cell_type": "markdown",
   "metadata": {},
   "source": [
    "**<span style=\"color:blue\">Now that I have split, I want to calculate the parameters- mean, dispersion, and standard deviation.</span>**\n",
    "    \n",
    "<span style=\"color:blue\">To do this I've made a function (I did not have to, but as a lesson from routine operations in a previous project I decided to do so).</span>\n",
    "\n",
    "<span style=\"color:blue\">I will apply it on both datasets, and then merge all the statistics in one table.</span>\n",
    "\n",
    "\n"
   ]
  },
  {
   "cell_type": "code",
   "execution_count": 71,
   "metadata": {},
   "outputs": [],
   "source": [
    "def get_df_name(df):\n",
    "    name =[x for x in globals() if globals()[x] is df][0]\n",
    "    return name\n",
    "def stats (df, x, y):\n",
    "    \n",
    "    df_stat= []\n",
    "    df_name = get_df_name(df)\n",
    "    data = df[x]\n",
    "    mean = df[x].mean()\n",
    "    var  = np.var(df[x])\n",
    "    std  = np.std(df[x])\n",
    "    name = str(str(\"['\")+df[x].name+str(\"']\"))\n",
    "    stats = {'Mean of '+name:mean, 'Var  of '+name:var, 'Std  of '+name:std}\n",
    "    df_stat.append(stats)\n",
    "    df_stat = pd.DataFrame(df_stat) \n",
    "    y = df_stat.transpose()\n",
    "    y.columns = [df_name]\n",
    "    \n",
    "    for state, capital in  stats.items(): \n",
    "        print('The',state , 'is:{:.5}'.format(capital))\n",
    "        \n",
    "    \n",
    "    return y\n",
    "   "
   ]
  },
  {
   "cell_type": "code",
   "execution_count": 72,
   "metadata": {},
   "outputs": [],
   "source": [
    "empty_list = []"
   ]
  },
  {
   "cell_type": "markdown",
   "metadata": {},
   "source": [
    "**We will activate the function on df_surf and export the values to DataFrames:**"
   ]
  },
  {
   "cell_type": "code",
   "execution_count": 73,
   "metadata": {},
   "outputs": [
    {
     "name": "stdout",
     "output_type": "stream",
     "text": [
      "The Mean of ['total_time_calls'] is:427.12\n",
      "The Var  of ['total_time_calls'] is:5.542e+04\n",
      "The Std  of ['total_time_calls'] is:235.42\n",
      "The Mean of ['total_text'] is:31.041\n",
      "The Var  of ['total_text'] is:1125.4\n",
      "The Std  of ['total_text'] is:33.547\n",
      "The Mean of ['total_gb'] is:16.607\n",
      "The Var  of ['total_gb'] is:62.363\n",
      "The Std  of ['total_gb'] is:7.897\n",
      "The Mean of ['profit'] is:60.552\n",
      "The Var  of ['profit'] is:3060.5\n",
      "The Std  of ['profit'] is:55.322\n"
     ]
    }
   ],
   "source": [
    "surf_calls = pd.DataFrame(stats(df_surf, 'total_time_calls',empty_list))\n",
    "surf_text  = pd.DataFrame(stats(df_surf, 'total_text',empty_list))\n",
    "surf_gb    = pd.DataFrame(stats(df_surf, 'total_gb',empty_list))\n",
    "profit_surf    =pd.DataFrame(stats(df_surf,'profit', empty_list))\n",
    "\n",
    "df_surf_stat = surf_calls.append(surf_text)\n",
    "df_surf_stat = df_surf_stat.append(surf_gb)"
   ]
  },
  {
   "cell_type": "markdown",
   "metadata": {},
   "source": [
    "**Surf plan statistics:**"
   ]
  },
  {
   "cell_type": "code",
   "execution_count": 74,
   "metadata": {
    "scrolled": true
   },
   "outputs": [
    {
     "data": {
      "text/html": [
       "<div>\n",
       "<style scoped>\n",
       "    .dataframe tbody tr th:only-of-type {\n",
       "        vertical-align: middle;\n",
       "    }\n",
       "\n",
       "    .dataframe tbody tr th {\n",
       "        vertical-align: top;\n",
       "    }\n",
       "\n",
       "    .dataframe thead th {\n",
       "        text-align: right;\n",
       "    }\n",
       "</style>\n",
       "<table border=\"1\" class=\"dataframe\">\n",
       "  <thead>\n",
       "    <tr style=\"text-align: right;\">\n",
       "      <th></th>\n",
       "      <th>df_surf</th>\n",
       "    </tr>\n",
       "  </thead>\n",
       "  <tbody>\n",
       "    <tr>\n",
       "      <td>Mean of ['total_time_calls']</td>\n",
       "      <td>427.120329</td>\n",
       "    </tr>\n",
       "    <tr>\n",
       "      <td>Var  of ['total_time_calls']</td>\n",
       "      <td>55420.456705</td>\n",
       "    </tr>\n",
       "    <tr>\n",
       "      <td>Std  of ['total_time_calls']</td>\n",
       "      <td>235.415498</td>\n",
       "    </tr>\n",
       "    <tr>\n",
       "      <td>Mean of ['total_text']</td>\n",
       "      <td>31.041165</td>\n",
       "    </tr>\n",
       "    <tr>\n",
       "      <td>Var  of ['total_text']</td>\n",
       "      <td>1125.404892</td>\n",
       "    </tr>\n",
       "    <tr>\n",
       "      <td>Std  of ['total_text']</td>\n",
       "      <td>33.547055</td>\n",
       "    </tr>\n",
       "    <tr>\n",
       "      <td>Mean of ['total_gb']</td>\n",
       "      <td>16.607346</td>\n",
       "    </tr>\n",
       "    <tr>\n",
       "      <td>Var  of ['total_gb']</td>\n",
       "      <td>62.362606</td>\n",
       "    </tr>\n",
       "    <tr>\n",
       "      <td>Std  of ['total_gb']</td>\n",
       "      <td>7.897000</td>\n",
       "    </tr>\n",
       "  </tbody>\n",
       "</table>\n",
       "</div>"
      ],
      "text/plain": [
       "                                   df_surf\n",
       "Mean of ['total_time_calls']    427.120329\n",
       "Var  of ['total_time_calls']  55420.456705\n",
       "Std  of ['total_time_calls']    235.415498\n",
       "Mean of ['total_text']           31.041165\n",
       "Var  of ['total_text']         1125.404892\n",
       "Std  of ['total_text']           33.547055\n",
       "Mean of ['total_gb']             16.607346\n",
       "Var  of ['total_gb']             62.362606\n",
       "Std  of ['total_gb']              7.897000"
      ]
     },
     "execution_count": 74,
     "metadata": {},
     "output_type": "execute_result"
    }
   ],
   "source": [
    "df_surf_stat"
   ]
  },
  {
   "cell_type": "markdown",
   "metadata": {},
   "source": [
    "**We will activate the function on df_ultimate and export the values to DataFrames:**"
   ]
  },
  {
   "cell_type": "code",
   "execution_count": 75,
   "metadata": {},
   "outputs": [
    {
     "name": "stdout",
     "output_type": "stream",
     "text": [
      "The Mean of ['total_time_calls'] is:428.07\n",
      "The Var  of ['total_time_calls'] is:5.8463e+04\n",
      "The Std  of ['total_time_calls'] is:241.79\n",
      "The Mean of ['total_text'] is:37.344\n",
      "The Var  of ['total_text'] is:1208.2\n",
      "The Std  of ['total_text'] is:34.759\n",
      "The Mean of ['total_gb'] is:17.211\n",
      "The Var  of ['total_gb'] is:60.07\n",
      "The Std  of ['total_gb'] is:7.7505\n",
      "The Mean of ['profit'] is:72.301\n",
      "The Var  of ['profit'] is:128.98\n",
      "The Std  of ['profit'] is:11.357\n"
     ]
    }
   ],
   "source": [
    "ultimate_calls =pd.DataFrame(stats(df_ultimate, 'total_time_calls',empty_list))\n",
    "ultimate_text  =pd.DataFrame(stats(df_ultimate, 'total_text',empty_list))\n",
    "ultimate_gb    =pd.DataFrame(stats(df_ultimate, 'total_gb', empty_list))\n",
    "profit_ultimate  =pd.DataFrame(stats(df_ultimate,'profit', empty_list))\n",
    "\n",
    "\n",
    "df_ultimate_stat = ultimate_calls.append(ultimate_text)\n",
    "df_ultimate_stat = df_ultimate_stat.append(ultimate_gb)\n"
   ]
  },
  {
   "cell_type": "markdown",
   "metadata": {},
   "source": [
    "**Ultimate plan statistics:**"
   ]
  },
  {
   "cell_type": "code",
   "execution_count": 76,
   "metadata": {},
   "outputs": [
    {
     "data": {
      "text/html": [
       "<div>\n",
       "<style scoped>\n",
       "    .dataframe tbody tr th:only-of-type {\n",
       "        vertical-align: middle;\n",
       "    }\n",
       "\n",
       "    .dataframe tbody tr th {\n",
       "        vertical-align: top;\n",
       "    }\n",
       "\n",
       "    .dataframe thead th {\n",
       "        text-align: right;\n",
       "    }\n",
       "</style>\n",
       "<table border=\"1\" class=\"dataframe\">\n",
       "  <thead>\n",
       "    <tr style=\"text-align: right;\">\n",
       "      <th></th>\n",
       "      <th>df_ultimate</th>\n",
       "    </tr>\n",
       "  </thead>\n",
       "  <tbody>\n",
       "    <tr>\n",
       "      <td>Mean of ['total_time_calls']</td>\n",
       "      <td>428.071823</td>\n",
       "    </tr>\n",
       "    <tr>\n",
       "      <td>Var  of ['total_time_calls']</td>\n",
       "      <td>58463.016941</td>\n",
       "    </tr>\n",
       "    <tr>\n",
       "      <td>Std  of ['total_time_calls']</td>\n",
       "      <td>241.791267</td>\n",
       "    </tr>\n",
       "    <tr>\n",
       "      <td>Mean of ['total_text']</td>\n",
       "      <td>37.343923</td>\n",
       "    </tr>\n",
       "    <tr>\n",
       "      <td>Var  of ['total_text']</td>\n",
       "      <td>1208.156579</td>\n",
       "    </tr>\n",
       "    <tr>\n",
       "      <td>Std  of ['total_text']</td>\n",
       "      <td>34.758547</td>\n",
       "    </tr>\n",
       "    <tr>\n",
       "      <td>Mean of ['total_gb']</td>\n",
       "      <td>17.211326</td>\n",
       "    </tr>\n",
       "    <tr>\n",
       "      <td>Var  of ['total_gb']</td>\n",
       "      <td>60.069982</td>\n",
       "    </tr>\n",
       "    <tr>\n",
       "      <td>Std  of ['total_gb']</td>\n",
       "      <td>7.750483</td>\n",
       "    </tr>\n",
       "  </tbody>\n",
       "</table>\n",
       "</div>"
      ],
      "text/plain": [
       "                               df_ultimate\n",
       "Mean of ['total_time_calls']    428.071823\n",
       "Var  of ['total_time_calls']  58463.016941\n",
       "Std  of ['total_time_calls']    241.791267\n",
       "Mean of ['total_text']           37.343923\n",
       "Var  of ['total_text']         1208.156579\n",
       "Std  of ['total_text']           34.758547\n",
       "Mean of ['total_gb']             17.211326\n",
       "Var  of ['total_gb']             60.069982\n",
       "Std  of ['total_gb']              7.750483"
      ]
     },
     "execution_count": 76,
     "metadata": {},
     "output_type": "execute_result"
    }
   ],
   "source": [
    "df_ultimate_stat"
   ]
  },
  {
   "cell_type": "markdown",
   "metadata": {},
   "source": [
    "**Both plans statistics:**"
   ]
  },
  {
   "cell_type": "code",
   "execution_count": 77,
   "metadata": {},
   "outputs": [
    {
     "data": {
      "text/html": [
       "<div>\n",
       "<style scoped>\n",
       "    .dataframe tbody tr th:only-of-type {\n",
       "        vertical-align: middle;\n",
       "    }\n",
       "\n",
       "    .dataframe tbody tr th {\n",
       "        vertical-align: top;\n",
       "    }\n",
       "\n",
       "    .dataframe thead th {\n",
       "        text-align: right;\n",
       "    }\n",
       "</style>\n",
       "<table border=\"1\" class=\"dataframe\">\n",
       "  <thead>\n",
       "    <tr style=\"text-align: right;\">\n",
       "      <th></th>\n",
       "      <th>df_surf</th>\n",
       "      <th>df_ultimate</th>\n",
       "    </tr>\n",
       "  </thead>\n",
       "  <tbody>\n",
       "    <tr>\n",
       "      <td>Mean of ['total_time_calls']</td>\n",
       "      <td>427.120329</td>\n",
       "      <td>428.071823</td>\n",
       "    </tr>\n",
       "    <tr>\n",
       "      <td>Var  of ['total_time_calls']</td>\n",
       "      <td>55420.456705</td>\n",
       "      <td>58463.016941</td>\n",
       "    </tr>\n",
       "    <tr>\n",
       "      <td>Std  of ['total_time_calls']</td>\n",
       "      <td>235.415498</td>\n",
       "      <td>241.791267</td>\n",
       "    </tr>\n",
       "    <tr>\n",
       "      <td>Mean of ['total_text']</td>\n",
       "      <td>31.041165</td>\n",
       "      <td>37.343923</td>\n",
       "    </tr>\n",
       "    <tr>\n",
       "      <td>Var  of ['total_text']</td>\n",
       "      <td>1125.404892</td>\n",
       "      <td>1208.156579</td>\n",
       "    </tr>\n",
       "    <tr>\n",
       "      <td>Std  of ['total_text']</td>\n",
       "      <td>33.547055</td>\n",
       "      <td>34.758547</td>\n",
       "    </tr>\n",
       "    <tr>\n",
       "      <td>Mean of ['total_gb']</td>\n",
       "      <td>16.607346</td>\n",
       "      <td>17.211326</td>\n",
       "    </tr>\n",
       "    <tr>\n",
       "      <td>Var  of ['total_gb']</td>\n",
       "      <td>62.362606</td>\n",
       "      <td>60.069982</td>\n",
       "    </tr>\n",
       "    <tr>\n",
       "      <td>Std  of ['total_gb']</td>\n",
       "      <td>7.897000</td>\n",
       "      <td>7.750483</td>\n",
       "    </tr>\n",
       "  </tbody>\n",
       "</table>\n",
       "</div>"
      ],
      "text/plain": [
       "                                   df_surf   df_ultimate\n",
       "Mean of ['total_time_calls']    427.120329    428.071823\n",
       "Var  of ['total_time_calls']  55420.456705  58463.016941\n",
       "Std  of ['total_time_calls']    235.415498    241.791267\n",
       "Mean of ['total_text']           31.041165     37.343923\n",
       "Var  of ['total_text']         1125.404892   1208.156579\n",
       "Std  of ['total_text']           33.547055     34.758547\n",
       "Mean of ['total_gb']             16.607346     17.211326\n",
       "Var  of ['total_gb']             62.362606     60.069982\n",
       "Std  of ['total_gb']              7.897000      7.750483"
      ]
     },
     "execution_count": 77,
     "metadata": {},
     "output_type": "execute_result"
    }
   ],
   "source": [
    "stat_overall = pd.concat([df_surf_stat, df_ultimate_stat], axis=1, sort=False)\n",
    "stat_overall"
   ]
  },
  {
   "cell_type": "markdown",
   "metadata": {},
   "source": [
    "**We will add a \"difference\" column to easily see the differences between the plans**"
   ]
  },
  {
   "cell_type": "code",
   "execution_count": 78,
   "metadata": {},
   "outputs": [],
   "source": [
    "stat_overall['difference'] =  stat_overall.df_surf - stat_overall.df_ultimate "
   ]
  },
  {
   "cell_type": "code",
   "execution_count": 79,
   "metadata": {},
   "outputs": [
    {
     "data": {
      "text/html": [
       "<div>\n",
       "<style scoped>\n",
       "    .dataframe tbody tr th:only-of-type {\n",
       "        vertical-align: middle;\n",
       "    }\n",
       "\n",
       "    .dataframe tbody tr th {\n",
       "        vertical-align: top;\n",
       "    }\n",
       "\n",
       "    .dataframe thead th {\n",
       "        text-align: right;\n",
       "    }\n",
       "</style>\n",
       "<table border=\"1\" class=\"dataframe\">\n",
       "  <thead>\n",
       "    <tr style=\"text-align: right;\">\n",
       "      <th></th>\n",
       "      <th>df_surf</th>\n",
       "      <th>df_ultimate</th>\n",
       "      <th>difference</th>\n",
       "    </tr>\n",
       "  </thead>\n",
       "  <tbody>\n",
       "    <tr>\n",
       "      <td>Mean of ['total_time_calls']</td>\n",
       "      <td>427.120329</td>\n",
       "      <td>428.071823</td>\n",
       "      <td>-0.951494</td>\n",
       "    </tr>\n",
       "    <tr>\n",
       "      <td>Var  of ['total_time_calls']</td>\n",
       "      <td>55420.456705</td>\n",
       "      <td>58463.016941</td>\n",
       "      <td>-3042.560236</td>\n",
       "    </tr>\n",
       "    <tr>\n",
       "      <td>Std  of ['total_time_calls']</td>\n",
       "      <td>235.415498</td>\n",
       "      <td>241.791267</td>\n",
       "      <td>-6.375769</td>\n",
       "    </tr>\n",
       "    <tr>\n",
       "      <td>Mean of ['total_text']</td>\n",
       "      <td>31.041165</td>\n",
       "      <td>37.343923</td>\n",
       "      <td>-6.302757</td>\n",
       "    </tr>\n",
       "    <tr>\n",
       "      <td>Var  of ['total_text']</td>\n",
       "      <td>1125.404892</td>\n",
       "      <td>1208.156579</td>\n",
       "      <td>-82.751687</td>\n",
       "    </tr>\n",
       "    <tr>\n",
       "      <td>Std  of ['total_text']</td>\n",
       "      <td>33.547055</td>\n",
       "      <td>34.758547</td>\n",
       "      <td>-1.211492</td>\n",
       "    </tr>\n",
       "    <tr>\n",
       "      <td>Mean of ['total_gb']</td>\n",
       "      <td>16.607346</td>\n",
       "      <td>17.211326</td>\n",
       "      <td>-0.603980</td>\n",
       "    </tr>\n",
       "    <tr>\n",
       "      <td>Var  of ['total_gb']</td>\n",
       "      <td>62.362606</td>\n",
       "      <td>60.069982</td>\n",
       "      <td>2.292624</td>\n",
       "    </tr>\n",
       "    <tr>\n",
       "      <td>Std  of ['total_gb']</td>\n",
       "      <td>7.897000</td>\n",
       "      <td>7.750483</td>\n",
       "      <td>0.146517</td>\n",
       "    </tr>\n",
       "  </tbody>\n",
       "</table>\n",
       "</div>"
      ],
      "text/plain": [
       "                                   df_surf   df_ultimate   difference\n",
       "Mean of ['total_time_calls']    427.120329    428.071823    -0.951494\n",
       "Var  of ['total_time_calls']  55420.456705  58463.016941 -3042.560236\n",
       "Std  of ['total_time_calls']    235.415498    241.791267    -6.375769\n",
       "Mean of ['total_text']           31.041165     37.343923    -6.302757\n",
       "Var  of ['total_text']         1125.404892   1208.156579   -82.751687\n",
       "Std  of ['total_text']           33.547055     34.758547    -1.211492\n",
       "Mean of ['total_gb']             16.607346     17.211326    -0.603980\n",
       "Var  of ['total_gb']             62.362606     60.069982     2.292624\n",
       "Std  of ['total_gb']              7.897000      7.750483     0.146517"
      ]
     },
     "execution_count": 79,
     "metadata": {},
     "output_type": "execute_result"
    }
   ],
   "source": [
    "stat_overall "
   ]
  },
  {
   "cell_type": "markdown",
   "metadata": {},
   "source": [
    "<a class=\"anchor\" id=\"customer.\"></a> **<h2><span style=\"color:Gold\">Customer behavior analysis:</span></h2>** "
   ]
  },
  {
   "cell_type": "markdown",
   "metadata": {},
   "source": [
    "**<span style=\"color:red\">Calls:</span>**\n",
    "\n",
    "The average monthly call usage for customers of both plans is about 428 minutes per month.<br>\n",
    "After adding the column, we immediately notice a difference in the duration of the calls.<br>\n",
    "The difference is about about 3000 minutes in favor of the ultimate program.<br>\n",
    "It's teache us that even the **average duration of calls is similar** , the **distribution of data in the Ultimate** plan is **greater**, it can be concluded that usage patterns may be different in reality.\n",
    "#### The source of this big scatter may be because customers in the ultimate plan have a larger data package, which could explain the large scatter.\n",
    "\n",
    "**<span style=\"color:red\">Text:</span>**\n",
    "\n",
    "The average monthly usage of two plans is different. The average usage of messages in the surf plan is 31 monthly messages, while the average monthly use of the ultimate program is greater than it in 6+ messages , 37.3.<br>\n",
    "If we look at the variance it seems that as in calls here too **the variance is much greater in the ultimate program compared to the surf program**.<br>\n",
    "It can be concluded from this that the actual data may show that the uses are not necessarily similar or close as seen on average.<br>\n",
    "To do this, you should check what the median value is.\n",
    "In both programs it can be said that **the users do not prefer to use the text messaging service too much** and this is even though they buy a considerable amount of messages per month in advance.\n",
    "\n",
    "**<span style=\"color:red\">Internet:</span>**\n",
    "\n",
    "The **averages** of the two plans **are similar**, while **the variance is greater** among surf plan users.<br>\n",
    "It can be said that the average monthly usage is relatively high.<br>\n",
    "In the surf plan the costumers go through the monthly use every month, which means **they are willing to pay more** for internet (this is very good for the company),on the other hand, the customers in the ultimate plan do not take advantage of most of the Internet."
   ]
  },
  {
   "cell_type": "markdown",
   "metadata": {},
   "source": [
    "<div class=\"alert alert-success\" role=\"alert\">\n",
    "Reviewer's comment v. 1:\n",
    "    \n",
    "You have analysed plans in details, well done :)\n",
    "</div>"
   ]
  },
  {
   "cell_type": "code",
   "execution_count": 80,
   "metadata": {},
   "outputs": [],
   "source": [
    "mean_call_surf = stat_overall.iloc[0,0]\n",
    "var_call_surf = stat_overall.iloc[1,0]\n",
    "std_call_surf = stat_overall.iloc[2,0]\n",
    "\n",
    "mean_text_surf = stat_overall.iloc[3,0]\n",
    "var_text_surf = stat_overall.iloc[4,0]\n",
    "std_text_surf = stat_overall.iloc[5,0]\n",
    "\n",
    "mean_gb_surf = stat_overall.iloc[6,0]\n",
    "var_gb_surf = stat_overall.iloc[7,0]\n",
    "std_gb_surf = stat_overall.iloc[8,0]"
   ]
  },
  {
   "cell_type": "markdown",
   "metadata": {},
   "source": [
    "<a class=\"anchor\" id=\"histograms.\"></a>**After analyzing consumer behavior, we will look at the matching histograms, and see if they match the data:**"
   ]
  },
  {
   "cell_type": "code",
   "execution_count": 81,
   "metadata": {},
   "outputs": [
    {
     "data": {
      "image/png": "[encoded data removed]",
      "text/plain": [
       "<Figure size 1008x432 with 3 Axes>"
      ]
     },
     "metadata": {
      "needs_background": "light"
     },
     "output_type": "display_data"
    },
    {
     "data": {
      "image/png": "[encoded data removed]",
      "text/plain": [
       "<Figure size 1008x432 with 3 Axes>"
      ]
     },
     "metadata": {},
     "output_type": "display_data"
    }
   ],
   "source": [
    "plt.figure(figsize=(14,6)) \n",
    "####surf call hist####\n",
    "plt.subplot(1,3,1)\n",
    "sns.set_style('darkgrid')\n",
    "sns.distplot(df_surf['total_time_calls'],fit=st.laplace, kde=False, color = 'red')\n",
    "plt.title('Surf: Calls Histogram')\n",
    "\n",
    "plt.axvline(np.mean(df_surf['total_time_calls']), color='b', linestyle='dashed', linewidth=2.5)\n",
    "_, max_ = plt.ylim()\n",
    "plt.text(\n",
    "         df_surf['total_time_calls'].mean() + df_surf['total_time_calls'].mean() / 10,\n",
    "         max_ - max_ / 10,\n",
    "         \"    Mean: {:.2f}\".format(df_surf['total_time_calls'].mean()),\n",
    "         color = 'b',\n",
    "         )\n",
    "\n",
    "plt.xlim(-100)\n",
    "plt.grid(color='white', linestyle='-.', linewidth=0.9)\n",
    "ax = plt.gca()\n",
    "ax.set_facecolor('lavender');\n",
    "#####################\n",
    "\n",
    "####surf text hist###\n",
    "plt.subplot(1,3,2)\n",
    "sns.set_style('darkgrid')\n",
    "sns.distplot(df_surf['total_text'],bins= 50,fit=st.laplace, kde=False, color = 'gold')\n",
    "plt.title('Surf: Text Histogram')\n",
    "\n",
    "plt.axvline(np.mean(df_surf['total_text']), color='g', linestyle='dashed', linewidth=2.5)\n",
    "_, max_ = plt.ylim()\n",
    "plt.text(\n",
    "         df_surf['total_text'].mean() + df_surf['total_text'].mean() / 10,\n",
    "         max_ - max_ / 10,\n",
    "         \"    Mean: {:.2f}\".format(df_surf['total_text'].mean()),\n",
    "         color = 'g',\n",
    "         )\n",
    "\n",
    "plt.xlim(-100)\n",
    "plt.grid(color='white', linestyle='-.', linewidth=0.9)\n",
    "ax = plt.gca()\n",
    "ax.set_facecolor('lavender');\n",
    "#####################\n",
    "\n",
    "####surf gb hist#####\n",
    "plt.subplot(1,3,3)\n",
    "sns.set_style('darkgrid')\n",
    "sns.distplot(df_surf['total_gb'],fit=st.laplace, kde=False, color = 'b')\n",
    "plt.axvline(np.mean(df_surf['total_gb']), color='r', linestyle='dashed', linewidth=2.5)\n",
    "plt.title('Surf: GB Histogram')\n",
    "\n",
    "_, max_ = plt.ylim()\n",
    "plt.text(\n",
    "         df_surf['total_gb'].mean() + df_surf['total_gb'].mean() / 10,\n",
    "         max_ - max_ / 10,\n",
    "         \"    Mean: {:.2f}\".format(df_surf['total_gb'].mean()),\n",
    "         color = 'r',\n",
    "        )\n",
    "\n",
    "plt.xlim(-100)\n",
    "plt.grid(color='white', linestyle='-.', linewidth=0.9)\n",
    "ax = plt.gca()\n",
    "ax.set_facecolor('lavender');\n",
    "\n",
    "\n",
    "#####################\n",
    "\n",
    "\n",
    "####ultimate calls hist#\n",
    "plt.figure(figsize=(14,6)) \n",
    "plt.subplot(2,3,1)\n",
    "sns.set_style('darkgrid')\n",
    "sns.distplot(df_ultimate['total_time_calls'],fit=st.laplace, kde=False , color = 'orange')\n",
    "plt.title('Ultimate: Calls Histogram')\n",
    "plt.axvline(np.mean(df_ultimate['total_time_calls']), color='b', linestyle='dashed', linewidth=2.5)\n",
    "\n",
    "_, max_ = plt.ylim()\n",
    "plt.text(\n",
    "         df_ultimate['total_time_calls'].mean() + df_ultimate['total_time_calls'].mean() / 10,\n",
    "         max_ - max_ / 10,\n",
    "         \"    Mean: {:.2f}\".format(df_ultimate['total_time_calls'].mean()),\n",
    "         color = 'b',\n",
    "         )\n",
    "\n",
    "plt.xlim(-100)\n",
    "plt.grid(color='white', linestyle='-.', linewidth=0.9)\n",
    "ax = plt.gca()\n",
    "ax.set_facecolor('lavender');\n",
    "#####################\n",
    "\n",
    "\n",
    "####ultimate text hist#\n",
    "\n",
    "plt.subplot(2,3,2)\n",
    "sns.set_style('darkgrid')\n",
    "sns.distplot(df_ultimate['total_text'],bins= 50,fit=st.laplace, kde=False, color = 'g')\n",
    "plt.title('Ultimate: Text Histogram')\n",
    "plt.axvline(np.mean(df_ultimate['total_text']), color='b', linestyle='dashed', linewidth=2.5)\n",
    "\n",
    "_, max_ = plt.ylim()\n",
    "plt.text(\n",
    "         df_ultimate['total_text'].mean() + df_ultimate['total_text'].mean() / 10,\n",
    "         max_ - max_ / 10,\n",
    "         \"    Mean: {:.2f}\".format(df_ultimate['total_text'].mean()),\n",
    "         color = 'b',\n",
    "        )\n",
    "\n",
    "plt.xlim(-100)\n",
    "plt.grid(color='white', linestyle='-.', linewidth=0.9)\n",
    "ax = plt.gca()\n",
    "ax.set_facecolor('lavender');\n",
    "#####################\n",
    "\n",
    "####ultimate gb hist#\n",
    "\n",
    "plt.subplot(2,3,3)\n",
    "sns.set_style('darkgrid')\n",
    "sns.distplot(df_ultimate['total_gb'],fit=st.laplace, kde=False, color = 'purple')\n",
    "plt.title('Ultimate: GB Histogram')\n",
    "plt.axvline(np.mean(df_ultimate['total_gb']), color='b', linestyle='dashed', linewidth=2.5)\n",
    "\n",
    "_, max_ = plt.ylim()\n",
    "plt.text(\n",
    "         df_ultimate['total_gb'].mean() + df_ultimate['total_gb'].mean() / 10,\n",
    "         max_ - max_ / 10,\n",
    "         \"Mean: {:.2f}\".format(df_ultimate['total_gb'].mean()),\n",
    "         color = 'b',\n",
    "         )\n",
    "\n",
    "plt.xlim(-100)\n",
    "plt.grid(color='white', linestyle='-.', linewidth=0.9)\n",
    "ax = plt.gca()\n",
    "ax.set_facecolor('lavender');\n",
    "#####################\n",
    "\n",
    "plt.show();"
   ]
  },
  {
   "cell_type": "markdown",
   "metadata": {},
   "source": [
    "<a class=\"anchor\" id=\"discribe.\"></a>\n",
    "### Description of the histograms:\n",
    "**<span style=\"color:green\">Calls Histograms:</span>**\n",
    "\n",
    "In both plans we see *a normal distribution*, the average is slightly higher in ultimate.<br>\n",
    "According to the histograms, it can certainly be said that the distribution form of the average total_time_calls is normal in both plans.<br> In addition it can be seen that there is **less frequency around the 0 value in ultimate** while more frequency in the almost maximum values, which may explain the difference we saw earlier between the variance of the two columns.\n",
    "\n",
    "**<span style=\"color:green\">Texts Histograms:</span>**\n",
    "\n",
    "In both plans we see a normal distribution, **the average is higher in ultimate**.<br>\n",
    "According to the histograms, it can certainly be said that the distribution form of the average usage of text messages is normal in both plans, although in the surf plan it appears to be **skewed to the right**.<br> In addition it can be seen that in both histograms there is a **high frequency around the value of 0**.<br> In Ultimate the values seem more scattered, which may explain the gap we saw earlier between the variance of the two columns.\n",
    "\n",
    "**<span style=\"color:green\">Internet:</span>**\n",
    "\n",
    "The **average** monthly usage of GB **is almost the same in both plans**. It can also be clearly seen that the distribution is normal in both columns, while the distribution is skewed slightly to the left in the surf plan."
   ]
  },
  {
   "cell_type": "markdown",
   "metadata": {},
   "source": [
    "<a class='anchor' id=\"step3.3\"></a>\n",
    "### Conclusions Step 3.\n",
    "So after we have found the metrics that characterize the data of the use of both plans we can learn a few things:\n",
    "\n",
    "1. Our customers use the internet even if it costs them a lot of money. (It does not matter if they paid for it in advance, or in retrospect after the package runs out).\n",
    "2. It seems that the least consumed service by customers is the text messaging service.\n",
    "3. If you reduce the amount of minutes to 400 in the surf plan, it will be possible to increase the profit from each user.\n",
    "4. The parameters we calculated correspond to histograms.\n",
    "\n",
    "**Now on the basis of the prepared table it is possible to further examine the behavior of customers.**"
   ]
  },
  {
   "cell_type": "markdown",
   "metadata": {},
   "source": [
    "<a class='anchor' id=\"step4.\"></a>\n",
    "## Step 4. Test the hypotheses"
   ]
  },
  {
   "cell_type": "markdown",
   "metadata": {},
   "source": [
    "**<span style=\"color:green\">In this step we will finally examine the more profitable plan and in addition, we will examine whether customers from a specific area are more profitable than another area.</span>**\n",
    "\n",
    "\n"
   ]
  },
  {
   "cell_type": "markdown",
   "metadata": {},
   "source": [
    "**In order to work conveniently, I will create a DataFrame that contains within it the profit data of the two plans:**"
   ]
  },
  {
   "cell_type": "code",
   "execution_count": 82,
   "metadata": {},
   "outputs": [
    {
     "data": {
      "text/html": [
       "<div>\n",
       "<style scoped>\n",
       "    .dataframe tbody tr th:only-of-type {\n",
       "        vertical-align: middle;\n",
       "    }\n",
       "\n",
       "    .dataframe tbody tr th {\n",
       "        vertical-align: top;\n",
       "    }\n",
       "\n",
       "    .dataframe thead th {\n",
       "        text-align: right;\n",
       "    }\n",
       "</style>\n",
       "<table border=\"1\" class=\"dataframe\">\n",
       "  <thead>\n",
       "    <tr style=\"text-align: right;\">\n",
       "      <th></th>\n",
       "      <th>df_surf</th>\n",
       "      <th>df_ultimate</th>\n",
       "    </tr>\n",
       "  </thead>\n",
       "  <tbody>\n",
       "    <tr>\n",
       "      <td>Mean of ['profit']</td>\n",
       "      <td>60.551729</td>\n",
       "      <td>72.301105</td>\n",
       "    </tr>\n",
       "    <tr>\n",
       "      <td>Var  of ['profit']</td>\n",
       "      <td>3060.507379</td>\n",
       "      <td>128.981159</td>\n",
       "    </tr>\n",
       "    <tr>\n",
       "      <td>Std  of ['profit']</td>\n",
       "      <td>55.321853</td>\n",
       "      <td>11.356987</td>\n",
       "    </tr>\n",
       "  </tbody>\n",
       "</table>\n",
       "</div>"
      ],
      "text/plain": [
       "                        df_surf  df_ultimate\n",
       "Mean of ['profit']    60.551729    72.301105\n",
       "Var  of ['profit']  3060.507379   128.981159\n",
       "Std  of ['profit']    55.321853    11.356987"
      ]
     },
     "execution_count": 82,
     "metadata": {},
     "output_type": "execute_result"
    }
   ],
   "source": [
    "pofit_stat = pd.concat([profit_surf,profit_ultimate], axis = 1 ,sort = False)\n",
    "pofit_stat"
   ]
  },
  {
   "cell_type": "markdown",
   "metadata": {},
   "source": [
    "<h3><span style=\"color:orange\">We will now test the first hypotheses:\n",
    "</span></h3>"
   ]
  },
  {
   "cell_type": "markdown",
   "metadata": {},
   "source": [
    "Since we were asked to test the profit mean in the surf group against the profit mean that the ultimate group,**the sample from both groups does not have the same amount, and the samples are not interdependent** ,we would like to perform a **hypothesis on the equality of two Population means**  and for two different populations variance.<br>\n",
    "With the help of this test we can answer on this questions:<br>Is the difference between these means significant?<br>\n",
    "That depends on the variance of the samples the values are calculated from.<br>\n",
    "Instead of basing our comparison on the averages alone, we use the data sets to perform a statistical test.<br>\n",
    "Because we already know from the preparation of the profit table that the variance is different, and in general - probably the variance will be different in both populations unless the groups examined overlap.\n",
    "\n",
    "**So all that is left to do is to write the hypotheses formally:**"
   ]
  },
  {
   "cell_type": "markdown",
   "metadata": {},
   "source": [
    "<a class ='anchor' id=\"Hypothesis1.\"></a>\n",
    "<h3><span style=\"color:darkblue\">Hypothesis 1: The average profit from users of Ultimate and Surf calling plans differs.</span></h3>\n",
    "<h4><span style=\"color:green\">H0: The average profit from users of Ultimate and Surf calling are equal</span></h4> \n",
    "<h4><span style=\"color:red\">H1: The average profit from users of Ultimate and Surf calling are not equal</span></h4><br>\n",
    "I choose the critical statistical significance level to be 5%.<br><br>\n",
    "I chose to use the t test (or student test)-<br>\n",
    "More specifically-ind t test, ind for independent Samples שnd that is exactly our case.<br>\n",
    "In this type of test, we  comparing the average of two independent unrelated groups.\n",
    "Meaning, we are comparing samples from two different populations and are testing whether or not they have a different average."
   ]
  },
  {
   "cell_type": "code",
   "execution_count": 83,
   "metadata": {
    "scrolled": true
   },
   "outputs": [
    {
     "name": "stdout",
     "output_type": "stream",
     "text": [
      "The p-value is:  1.218411585212325e-15\n",
      "1.218411585212325e-15 < 0.05 \n",
      "We reject the null hypothesis (H0).\n"
     ]
    },
    {
     "data": {
      "image/png": "[encoded data removed]",
      "text/plain": [
       "<Figure size 1080x216 with 1 Axes>"
      ]
     },
     "metadata": {},
     "output_type": "display_data"
    }
   ],
   "source": [
    "sample_1 = df_surf.profit\n",
    "sample_2 = df_ultimate.profit\n",
    "\n",
    "alpha = 0.05 # critical statistical significance level\n",
    "\n",
    "results = st.ttest_ind(\n",
    "        sample_1, \n",
    "        sample_2,\n",
    "        equal_var = False )\n",
    "\n",
    "\n",
    "\n",
    "# show the to samples distributions:\n",
    "\n",
    "plt.figure(figsize=(15,3))\n",
    "ax1 = sns.distplot(sample_1,bins = 25)\n",
    "ax2 = sns.distplot(sample_2,bins = 5)\n",
    "\n",
    "plt.axvline(np.mean(sample_1), color='b', linestyle='dashed', linewidth=2.5)\n",
    "_, max_ = plt.ylim()\n",
    "plt.text(\n",
    "        sample_1.mean() + sample_1.mean() / 10,\n",
    "        max_ - max_ / 10,\n",
    "        \"         Surf profit Mean:        {:.2f}\".format(sample_1.mean()),\n",
    "        color = 'b',\n",
    "    )\n",
    "plt.axvline(np.mean(sample_2), color='orange', linestyle='dashed', linewidth=2.5, )\n",
    "plt.text(\n",
    "        sample_2.mean() + sample_2.mean() / 10,\n",
    "        max_ - max_ / 5,\n",
    "        \"     Ultimate profit Mean: {:.2f}\".format(sample_2.mean()),\n",
    "        color = 'orange',\n",
    "    );\n",
    "plt.axvline(results.pvalue, color='black', linestyle='dotted', linewidth=2.5, );\n",
    "\n",
    "\n",
    "\n",
    "#conclusion:\n",
    "\n",
    "\n",
    "print('The p-value is: ',results.pvalue)\n",
    "\n",
    "\n",
    "if (results.pvalue < alpha):\n",
    "        print(results.pvalue,\"<\",alpha,\"\\n\"+\"We reject the null hypothesis (H0).\")\n",
    "else:\n",
    "        print(results.pvalue,\">\",alpha,\"\\n\"+\"We can't reject the null hypothesis (H0).\") \n"
   ]
  },
  {
   "cell_type": "markdown",
   "metadata": {},
   "source": [
    "<h3><span  style=\"color:red\">It can be clearly seen that the average profit of ultimate “falls” at the edge (if at all) of the profit distribution of surf.<br> And of course the average  went far away from  the critical statistical significance level  we defined<br><br>##We reject the null hypothesis.##</span>\n",
    "</h3>"
   ]
  },
  {
   "cell_type": "markdown",
   "metadata": {},
   "source": [
    "\n"
   ]
  },
  {
   "cell_type": "markdown",
   "metadata": {},
   "source": [
    "In this hypothesis we are asked to exclude a population from the sample and to examine it against the remaining population.<br>\n",
    "**The characteristics are similar** -<br> The size of the samples is different, the variance is different (we will check this of course) and there is no dependence between the two samples!<br>**Therefore everything that was said at the beginning of the previous test is also valid now.**\n",
    "\n",
    "\n",
    "**We will prepare the data and then test the hypotheses-**"
   ]
  },
  {
   "cell_type": "markdown",
   "metadata": {},
   "source": [
    "**Extract customer data with NY-NJ:**"
   ]
  },
  {
   "cell_type": "code",
   "execution_count": 84,
   "metadata": {},
   "outputs": [],
   "source": [
    "df_NYNJ = df_total[df_total.city.str.contains('NY-NJ')]\n",
    "df_other = df_total[~df_total.city.str.contains('NY-NJ')]\n",
    "# len(df_NYNJ)+len(df_other)\n",
    "# len(df_total)"
   ]
  },
  {
   "cell_type": "markdown",
   "metadata": {},
   "source": [
    "**We will check if the variances is  different:***"
   ]
  },
  {
   "cell_type": "code",
   "execution_count": 85,
   "metadata": {},
   "outputs": [
    {
     "name": "stdout",
     "output_type": "stream",
     "text": [
      "df_NYNJ  var is:  1885.7843645817586\n",
      "df_other var is:  2219.881380131179\n"
     ]
    }
   ],
   "source": [
    "print('df_NYNJ  var is: ', np.var(df_NYNJ.profit))\n",
    "print('df_other var is: ', np.var(df_other.profit))"
   ]
  },
  {
   "cell_type": "markdown",
   "metadata": {},
   "source": [
    "Indeed the variances are different."
   ]
  },
  {
   "cell_type": "markdown",
   "metadata": {},
   "source": [
    "**Let's write the hypotheses formally:**\n",
    "\n"
   ]
  },
  {
   "cell_type": "markdown",
   "metadata": {},
   "source": [
    "<a class='anchor' id=\"Hypothesis2.\"></a>\n",
    "<h3><span style=\"color:darkblue\">Hypothesis 2: The average profit from users in NY-NJ area is different from that of the users from other regions.</span></h3>\n",
    "<h4><span style=\"color:green\">H0: The average profit from users in NY-NJ area is equal  to  the rest of the costumers </span></h4> \n",
    "<h4><span style=\"color:red\">H1: The average profit from users in NY-NJ area is not equal  to  the rest of the costumers</span></h4><br>\n",
    "I choose the critical statistical significance level to be 3%.<br><br>\n",
    "Same here- I chose to use the t test (or student test)-<br>\n",
    "More specifically-ind t test, ind for independent Samples שnd that is exactly our case.<br>\n",
    "In this type of test, we  comparing the average of two independent unrelated groups.\n",
    "Meaning, we are comparing samples from two different populations and are testing whether or not they have a different average."
   ]
  },
  {
   "cell_type": "code",
   "execution_count": 86,
   "metadata": {},
   "outputs": [
    {
     "name": "stdout",
     "output_type": "stream",
     "text": [
      "The p-value is: 0.03870322661292938\n",
      "0.03870322661292938 > 0.03 \n",
      "We can't reject the null hypothesis.\n"
     ]
    },
    {
     "data": {
      "image/png": "[encoded data removed]",
      "text/plain": [
       "<Figure size 1080x216 with 1 Axes>"
      ]
     },
     "metadata": {},
     "output_type": "display_data"
    }
   ],
   "source": [
    "sample_1 = df_NYNJ.profit\n",
    "sample_2 = df_other.profit\n",
    "\n",
    "alpha = 0.03 # critical statistical significance level\n",
    "\n",
    "results = st.ttest_ind(\n",
    "        sample_1, \n",
    "        sample_2,\n",
    "        equal_var = False )\n",
    "\n",
    "\n",
    "\n",
    "# show the to samples distributions:\n",
    "\n",
    "plt.figure(figsize=(15,3))\n",
    "ax1 = sns.distplot(sample_1,bins = 25)\n",
    "ax2 = sns.distplot(sample_2, bins = 25)\n",
    "plt.xlim(right = 400)\n",
    "plt.axvline(np.mean(sample_1), color='b', linestyle='dashed', linewidth=2.5)\n",
    "_, max_ = plt.ylim()\n",
    "plt.text(\n",
    "        sample_1.mean() + sample_1.mean() / 10,\n",
    "        max_ - max_ / 10,\n",
    "        \"    df_NYNJ Mean: {:.2f}\".format(sample_1.mean()),\n",
    "        color = 'b',\n",
    "    )\n",
    "plt.axvline(np.mean(sample_2), color='orange', linestyle='dashed', linewidth=2.5, )\n",
    "plt.text(\n",
    "        sample_2.mean() + sample_2.mean() / 10,\n",
    "        max_ - max_ / 5,\n",
    "        \" df_other Mean: {:.2f}\".format(sample_2.mean()),\n",
    "        color = 'orange',\n",
    "    );\n",
    "\n",
    "plt.axvline(results.pvalue, color='black', linestyle='dotted', linewidth=2.5, )\n",
    "\n",
    "\n",
    "#conclusion:\n",
    "\n",
    "\n",
    "print('The p-value is:',results.pvalue)\n",
    "\n",
    "\n",
    "if (results.pvalue < alpha):\n",
    "        print(results.pvalue,\"<\",alpha,\"\\n\"+\"We reject the null hypothesis.\")\n",
    "else:\n",
    "        print(results.pvalue,\">\",alpha,\"\\n\"+\"We can't reject the null hypothesis.\") "
   ]
  },
  {
   "cell_type": "markdown",
   "metadata": {},
   "source": [
    "<h3><span  style=\"color:green\">After testing the hypotheses, we found that at a significance level of 3%, the averages of the two populations tested were equal.<br>In this test I did not want to make it difficult, so I offered a lower-than-usual level of significance.<br>Of course we can see from the plot that the averages are indeed quite close to each other. ($ 6 difference) <br><br>##We can't reject the null hypothesis.##</span>\n",
    "</h3>"
   ]
  },
  {
   "cell_type": "markdown",
   "metadata": {},
   "source": [
    "<a class = 'anchor' id=\"step4.4\"></a>\n",
    "### Conclusions Step 4.\n",
    "Having examined the behavior of consumers in the previous step, we examined at this step whether there is a difference (or not) between the profitability in different populations.<br>\n",
    "The findings we found are -\n",
    "1. The claim that the average profit is equal between the two plans can be rejected.\n",
    "2. It can be assumed on the basis of the test that the average profit is equal between the customers who live in NY-NJ and the rest of the population (regardless of the plan).\n"
   ]
  },
  {
   "cell_type": "markdown",
   "metadata": {},
   "source": [
    "<a class = 'anchor' id=\"step5.\"></a>\n",
    "## Step 5. Overall conclusions\n",
    "**After analysis of a sample from the entire population and examination of various hypotheses, the following conclusions were reached:**\n",
    "1. The consumption habits of all customers are the same for the most parameters, which can help if we think about change things in the company later on (there is no need to put too much effort into thinking about the different populations).<br>\n",
    "\n",
    "2. Customers are **willing to pay a lot of money when it comes to surfing the Internet** - this can be leveraged for an online campaign that will result in multiple consumption of data on the phones and consequently an increase in profits.<br>\n",
    "\n",
    "3. According to the test, it seems that the averages between NJ-NY and the rest of the population are similar, this is interpreted as a good thing,**consumption is not affected by residential area but probably by product**.<br>(It is not possible to know on the basis of the given information).<br>\n",
    "4. Based on the sample examined it was found that there are not many customers who left during 2018, which is an encouraging thing."
   ]
  },
  {
   "cell_type": "markdown",
   "metadata": {},
   "source": [
    "### Project completion checklist\n"
   ]
  },
  {
   "cell_type": "markdown",
   "metadata": {},
   "source": [
    "- [x] How you explain the problems identified in the data\n",
    "- [X] How you prepare the data for analysis\n",
    "- [X] What graphs you plot for distributions\n",
    "- [X] How you interpret the resulting graphs\n",
    "- [X] How you calculate the standard deviation and variance\n",
    "- [X] Whether you formulate the alternative and null hypotheses\n",
    "- [X] What methods you use to test hypotheses\n",
    "- [X] Whether you interpret the results of your hypothesis tests\n",
    "- [X] Whether you follow the project structure and keep the code tidy\n",
    "- [X] The conclusions you come to\n",
    "- [X] Whether you leave comments at each step"
   ]
  }
 ],
 "metadata": {
  "kernelspec": {
   "display_name": "Python 3",
   "language": "python",
   "name": "python3"
  },
  "language_info": {
   "codemirror_mode": {
    "name": "ipython",
    "version": 3
   },
   "file_extension": ".py",
   "mimetype": "text/x-python",
   "name": "python",
   "nbconvert_exporter": "python",
   "pygments_lexer": "ipython3",
   "version": "3.7.6"
  }
 },
 "nbformat": 4,
 "nbformat_minor": 2
}
